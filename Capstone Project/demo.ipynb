{
 "cells": [
  {
   "cell_type": "markdown",
   "metadata": {},
   "source": [
    "# AI Art Gallery Tour Guide\n",
    "\n",
    "## Project Description\n",
    "This project implements an intelligent art gallery tour guide system using Large Language Models (LLMs) and computer vision capabilities. The system generates detailed, contextual explanations for artworks by combining structured metadata with visual analysis.\n",
    "\n",
    "### Key Components\n",
    "\n",
    "1. **Baseline Implementation**\n",
    "   - Developed a prompt engineering framework for artwork description generation using Gemini API\n",
    "   - Created structured prompts incorporating artwork metadata (artist info, historical context, physical details)\n",
    "   - Implemented a comprehensive evaluation framework with structured ratings (1-5 scale)\n",
    "\n",
    "2. **Generation Control & Optimization**\n",
    "   - Implemented length control (200 tokens) for more concise explanations\n",
    "   - Analyzed the relationship between response length and quality ratings\n",
    "   - Monitored and evaluated generation quality across different length constraints\n",
    "\n",
    "3. **Multimodal Integration**\n",
    "   - Enhanced the system with image processing capabilities using Gemini's multimodal features\n",
    "   - Combined textual metadata with visual analysis for richer artwork descriptions\n",
    "   - Developed a specialized prompt template that balances textual and visual information\n",
    "\n",
    "4. **Evaluation Framework**\n",
    "   - Created a sophisticated evaluation system assessing multiple criteria:\n",
    "     - Instruction following\n",
    "     - Factual accuracy\n",
    "     - Artwork focus/relevance\n",
    "     - Analytical depth\n",
    "     - Clarity and cohesion\n",
    "     - Contextualization\n",
    "   - Implemented structured output for systematic quality assessment\n",
    "   - Analyzed bad generations to identify and address common issues\n"
   ]
  },
  {
   "cell_type": "markdown",
   "metadata": {},
   "source": [
    "# Part 0: Environment Setup"
   ]
  },
  {
   "cell_type": "code",
   "execution_count": null,
   "metadata": {},
   "outputs": [],
   "source": [
    "# # Install all required packages\n",
    "# !pip install python-dotenv pandas google-generativeai requests tqdm aiohttp\n",
    "\n",
    "# # Restart kernel after installation to use newly installed packages\n",
    "# from IPython.core.display import HTML\n",
    "# HTML(\"<script>Jupyter.notebook.kernel.restart()</script>\")"
   ]
  },
  {
   "cell_type": "markdown",
   "metadata": {},
   "source": [
    "The first step is to create an '.env' file in your project folder and add the following line:\n",
    "\n",
    "GEMINI_API_KEY=your_api_key_here\n"
   ]
  },
  {
   "cell_type": "code",
   "execution_count": 1,
   "metadata": {},
   "outputs": [],
   "source": [
    "# Import all required packages and read gemini api key from .env file\n",
    "# Environment and API setup\n",
    "import os\n",
    "from dotenv import load_dotenv\n",
    "\n",
    "# Data processing and analysis\n",
    "import pandas as pd\n",
    "import json\n",
    "from datetime import datetime\n",
    "\n",
    "# Google Gemini API\n",
    "from google import genai\n",
    "from google.genai import types\n",
    "\n",
    "# HTTP requests and image handling\n",
    "import requests\n",
    "\n",
    "# Utilities\n",
    "import time\n",
    "import random\n",
    "import enum\n",
    "from tqdm import tqdm  # Progress tracking\n",
    "\n",
    "# Load environment variables\n",
    "load_dotenv()\n",
    "\n",
    "# Initialize Gemini API\n",
    "GEMINI_API_KEY = os.getenv(\"GEMINI_API_KEY\")\n",
    "if not GEMINI_API_KEY:\n",
    "    raise ValueError(\"GEMINI_API_KEY not found in environment variables\")\n",
    "\n",
    "# Configure pandas display options\n",
    "pd.set_option('display.max_colwidth', None)  # Show full column content"
   ]
  },
  {
   "cell_type": "markdown",
   "metadata": {},
   "source": [
    "# Part 1: Data Processing"
   ]
  },
  {
   "cell_type": "markdown",
   "metadata": {},
   "source": [
    "## Data Loading & EDA"
   ]
  },
  {
   "cell_type": "markdown",
   "metadata": {},
   "source": [
    "data provided by The Metropolitan Museum of Art \n",
    "\n",
    "https://github.com/metmuseum/openaccess?tab=readme-ov-file\n",
    "\n",
    "We select those art works that are in the public domain(Is Public Domain=True) and have images available. \n",
    "\n",
    "We concat the image url for each selected art work through api calls (https://metmuseum.github.io/)\n",
    "\n",
    "The code for this process is in fetch_met_images.py, which is not shown in this notebook. The resulting data file is store in data/met_with_images.csv, which is provided in the data folder."
   ]
  },
  {
   "cell_type": "code",
   "execution_count": 2,
   "metadata": {},
   "outputs": [
    {
     "name": "stderr",
     "output_type": "stream",
     "text": [
      "/var/folders/ln/v3v0jnkn5250q18230nsptw00000gn/T/ipykernel_19113/1749966061.py:4: DtypeWarning: Columns (5,7,10,11,12,13,14,34,36,37,38,39,40,41,42,43,44,46) have mixed types. Specify dtype option on import or set low_memory=False.\n",
      "  df = pd.read_csv(file_path)\n"
     ]
    },
    {
     "data": {
      "text/html": [
       "<div>\n",
       "<style scoped>\n",
       "    .dataframe tbody tr th:only-of-type {\n",
       "        vertical-align: middle;\n",
       "    }\n",
       "\n",
       "    .dataframe tbody tr th {\n",
       "        vertical-align: top;\n",
       "    }\n",
       "\n",
       "    .dataframe thead th {\n",
       "        text-align: right;\n",
       "    }\n",
       "</style>\n",
       "<table border=\"1\" class=\"dataframe\">\n",
       "  <thead>\n",
       "    <tr style=\"text-align: right;\">\n",
       "      <th></th>\n",
       "      <th>Object Number</th>\n",
       "      <th>Is Highlight</th>\n",
       "      <th>Is Timeline Work</th>\n",
       "      <th>Is Public Domain</th>\n",
       "      <th>Object ID</th>\n",
       "      <th>Gallery Number</th>\n",
       "      <th>Department</th>\n",
       "      <th>AccessionYear</th>\n",
       "      <th>Object Name</th>\n",
       "      <th>Title</th>\n",
       "      <th>...</th>\n",
       "      <th>Classification</th>\n",
       "      <th>Rights and Reproduction</th>\n",
       "      <th>Link Resource</th>\n",
       "      <th>Object Wikidata URL</th>\n",
       "      <th>Metadata Date</th>\n",
       "      <th>Repository</th>\n",
       "      <th>Tags</th>\n",
       "      <th>Tags AAT URL</th>\n",
       "      <th>Tags Wikidata URL</th>\n",
       "      <th>Primary Image URL</th>\n",
       "    </tr>\n",
       "  </thead>\n",
       "  <tbody>\n",
       "    <tr>\n",
       "      <th>0</th>\n",
       "      <td>1970.289.6</td>\n",
       "      <td>False</td>\n",
       "      <td>False</td>\n",
       "      <td>True</td>\n",
       "      <td>34</td>\n",
       "      <td>774.0</td>\n",
       "      <td>The American Wing</td>\n",
       "      <td>1970.0</td>\n",
       "      <td>Clock</td>\n",
       "      <td>Acorn Clock</td>\n",
       "      <td>...</td>\n",
       "      <td>NaN</td>\n",
       "      <td>NaN</td>\n",
       "      <td>http://www.metmuseum.org/art/collection/search/34</td>\n",
       "      <td>https://www.wikidata.org/wiki/Q116373732</td>\n",
       "      <td>NaN</td>\n",
       "      <td>Metropolitan Museum of Art, New York, NY</td>\n",
       "      <td>Landscapes|Boats</td>\n",
       "      <td>http://vocab.getty.edu/page/aat/300132294|http://vocab.getty.edu/page/aat/300178749</td>\n",
       "      <td>https://www.wikidata.org/wiki/Q191163|https://www.wikidata.org/wiki/Q35872</td>\n",
       "      <td>https://images.metmuseum.org/CRDImages/ad/original/204788.jpg</td>\n",
       "    </tr>\n",
       "    <tr>\n",
       "      <th>1</th>\n",
       "      <td>38.165.51</td>\n",
       "      <td>False</td>\n",
       "      <td>False</td>\n",
       "      <td>True</td>\n",
       "      <td>37</td>\n",
       "      <td>774.0</td>\n",
       "      <td>The American Wing</td>\n",
       "      <td>1938.0</td>\n",
       "      <td>Figure</td>\n",
       "      <td>Figure of Admiral George Rodney</td>\n",
       "      <td>...</td>\n",
       "      <td>NaN</td>\n",
       "      <td>NaN</td>\n",
       "      <td>http://www.metmuseum.org/art/collection/search/37</td>\n",
       "      <td>https://www.wikidata.org/wiki/Q116373729</td>\n",
       "      <td>NaN</td>\n",
       "      <td>Metropolitan Museum of Art, New York, NY</td>\n",
       "      <td>Cannons|Swords|Men</td>\n",
       "      <td>http://vocab.getty.edu/page/aat/300036936|http://vocab.getty.edu/page/aat/300037048|http://vocab.getty.edu/page/aat/300025928</td>\n",
       "      <td>https://www.wikidata.org/wiki/Q81103|https://www.wikidata.org/wiki/Q12791|https://www.wikidata.org/wiki/Q8441</td>\n",
       "      <td>https://images.metmuseum.org/CRDImages/ad/original/DP247752.jpg</td>\n",
       "    </tr>\n",
       "    <tr>\n",
       "      <th>2</th>\n",
       "      <td>38.165.50</td>\n",
       "      <td>False</td>\n",
       "      <td>False</td>\n",
       "      <td>True</td>\n",
       "      <td>38</td>\n",
       "      <td>774.0</td>\n",
       "      <td>The American Wing</td>\n",
       "      <td>1938.0</td>\n",
       "      <td>Figure</td>\n",
       "      <td>Figure of Admiral Samuel Hood</td>\n",
       "      <td>...</td>\n",
       "      <td>NaN</td>\n",
       "      <td>NaN</td>\n",
       "      <td>http://www.metmuseum.org/art/collection/search/38</td>\n",
       "      <td>https://www.wikidata.org/wiki/Q116373728</td>\n",
       "      <td>NaN</td>\n",
       "      <td>Metropolitan Museum of Art, New York, NY</td>\n",
       "      <td>Cannons|Swords|Men|Admirals</td>\n",
       "      <td>http://vocab.getty.edu/page/aat/300036936|http://vocab.getty.edu/page/aat/300037048|http://vocab.getty.edu/page/aat/300025928|http://vocab.getty.edu/page/aat/300236014</td>\n",
       "      <td>https://www.wikidata.org/wiki/Q81103|https://www.wikidata.org/wiki/Q12791|https://www.wikidata.org/wiki/Q8441|https://www.wikidata.org/wiki/Q132851</td>\n",
       "      <td>https://images.metmuseum.org/CRDImages/ad/original/DP247753.jpg</td>\n",
       "    </tr>\n",
       "    <tr>\n",
       "      <th>3</th>\n",
       "      <td>18.11.10</td>\n",
       "      <td>False</td>\n",
       "      <td>False</td>\n",
       "      <td>True</td>\n",
       "      <td>39</td>\n",
       "      <td>NaN</td>\n",
       "      <td>The American Wing</td>\n",
       "      <td>1918.0</td>\n",
       "      <td>Advertisement</td>\n",
       "      <td>Advertisement for Norwich Stone Ware Factory</td>\n",
       "      <td>...</td>\n",
       "      <td>NaN</td>\n",
       "      <td>NaN</td>\n",
       "      <td>http://www.metmuseum.org/art/collection/search/39</td>\n",
       "      <td>NaN</td>\n",
       "      <td>NaN</td>\n",
       "      <td>Metropolitan Museum of Art, New York, NY</td>\n",
       "      <td>Advertisements</td>\n",
       "      <td>http://vocab.getty.edu/page/aat/300193993</td>\n",
       "      <td>https://www.wikidata.org/wiki/Q39911916</td>\n",
       "      <td>https://images.metmuseum.org/CRDImages/ad/original/37808.jpg</td>\n",
       "    </tr>\n",
       "    <tr>\n",
       "      <th>4</th>\n",
       "      <td>46.140.143</td>\n",
       "      <td>False</td>\n",
       "      <td>False</td>\n",
       "      <td>True</td>\n",
       "      <td>40</td>\n",
       "      <td>774.0</td>\n",
       "      <td>The American Wing</td>\n",
       "      <td>1946.0</td>\n",
       "      <td>Ale glass</td>\n",
       "      <td>Ale Glass</td>\n",
       "      <td>...</td>\n",
       "      <td>NaN</td>\n",
       "      <td>NaN</td>\n",
       "      <td>http://www.metmuseum.org/art/collection/search/40</td>\n",
       "      <td>https://www.wikidata.org/wiki/Q116373727</td>\n",
       "      <td>NaN</td>\n",
       "      <td>Metropolitan Museum of Art, New York, NY</td>\n",
       "      <td>NaN</td>\n",
       "      <td>NaN</td>\n",
       "      <td>NaN</td>\n",
       "      <td>https://images.metmuseum.org/CRDImages/ad/original/174118.jpg</td>\n",
       "    </tr>\n",
       "  </tbody>\n",
       "</table>\n",
       "<p>5 rows × 55 columns</p>\n",
       "</div>"
      ],
      "text/plain": [
       "  Object Number  Is Highlight  Is Timeline Work  Is Public Domain  Object ID  \\\n",
       "0    1970.289.6         False             False              True         34   \n",
       "1     38.165.51         False             False              True         37   \n",
       "2     38.165.50         False             False              True         38   \n",
       "3      18.11.10         False             False              True         39   \n",
       "4    46.140.143         False             False              True         40   \n",
       "\n",
       "  Gallery Number         Department AccessionYear    Object Name  \\\n",
       "0          774.0  The American Wing        1970.0          Clock   \n",
       "1          774.0  The American Wing        1938.0         Figure   \n",
       "2          774.0  The American Wing        1938.0         Figure   \n",
       "3            NaN  The American Wing        1918.0  Advertisement   \n",
       "4          774.0  The American Wing        1946.0      Ale glass   \n",
       "\n",
       "                                          Title  ... Classification  \\\n",
       "0                                   Acorn Clock  ...            NaN   \n",
       "1               Figure of Admiral George Rodney  ...            NaN   \n",
       "2                 Figure of Admiral Samuel Hood  ...            NaN   \n",
       "3  Advertisement for Norwich Stone Ware Factory  ...            NaN   \n",
       "4                                     Ale Glass  ...            NaN   \n",
       "\n",
       "  Rights and Reproduction                                      Link Resource  \\\n",
       "0                     NaN  http://www.metmuseum.org/art/collection/search/34   \n",
       "1                     NaN  http://www.metmuseum.org/art/collection/search/37   \n",
       "2                     NaN  http://www.metmuseum.org/art/collection/search/38   \n",
       "3                     NaN  http://www.metmuseum.org/art/collection/search/39   \n",
       "4                     NaN  http://www.metmuseum.org/art/collection/search/40   \n",
       "\n",
       "                        Object Wikidata URL Metadata Date  \\\n",
       "0  https://www.wikidata.org/wiki/Q116373732           NaN   \n",
       "1  https://www.wikidata.org/wiki/Q116373729           NaN   \n",
       "2  https://www.wikidata.org/wiki/Q116373728           NaN   \n",
       "3                                       NaN           NaN   \n",
       "4  https://www.wikidata.org/wiki/Q116373727           NaN   \n",
       "\n",
       "                                 Repository                         Tags  \\\n",
       "0  Metropolitan Museum of Art, New York, NY             Landscapes|Boats   \n",
       "1  Metropolitan Museum of Art, New York, NY           Cannons|Swords|Men   \n",
       "2  Metropolitan Museum of Art, New York, NY  Cannons|Swords|Men|Admirals   \n",
       "3  Metropolitan Museum of Art, New York, NY               Advertisements   \n",
       "4  Metropolitan Museum of Art, New York, NY                          NaN   \n",
       "\n",
       "                                                                                                                                                              Tags AAT URL  \\\n",
       "0                                                                                      http://vocab.getty.edu/page/aat/300132294|http://vocab.getty.edu/page/aat/300178749   \n",
       "1                                            http://vocab.getty.edu/page/aat/300036936|http://vocab.getty.edu/page/aat/300037048|http://vocab.getty.edu/page/aat/300025928   \n",
       "2  http://vocab.getty.edu/page/aat/300036936|http://vocab.getty.edu/page/aat/300037048|http://vocab.getty.edu/page/aat/300025928|http://vocab.getty.edu/page/aat/300236014   \n",
       "3                                                                                                                                http://vocab.getty.edu/page/aat/300193993   \n",
       "4                                                                                                                                                                      NaN   \n",
       "\n",
       "                                                                                                                                     Tags Wikidata URL  \\\n",
       "0                                                                           https://www.wikidata.org/wiki/Q191163|https://www.wikidata.org/wiki/Q35872   \n",
       "1                                        https://www.wikidata.org/wiki/Q81103|https://www.wikidata.org/wiki/Q12791|https://www.wikidata.org/wiki/Q8441   \n",
       "2  https://www.wikidata.org/wiki/Q81103|https://www.wikidata.org/wiki/Q12791|https://www.wikidata.org/wiki/Q8441|https://www.wikidata.org/wiki/Q132851   \n",
       "3                                                                                                              https://www.wikidata.org/wiki/Q39911916   \n",
       "4                                                                                                                                                  NaN   \n",
       "\n",
       "                                                 Primary Image URL  \n",
       "0    https://images.metmuseum.org/CRDImages/ad/original/204788.jpg  \n",
       "1  https://images.metmuseum.org/CRDImages/ad/original/DP247752.jpg  \n",
       "2  https://images.metmuseum.org/CRDImages/ad/original/DP247753.jpg  \n",
       "3     https://images.metmuseum.org/CRDImages/ad/original/37808.jpg  \n",
       "4    https://images.metmuseum.org/CRDImages/ad/original/174118.jpg  \n",
       "\n",
       "[5 rows x 55 columns]"
      ]
     },
     "execution_count": 2,
     "metadata": {},
     "output_type": "execute_result"
    }
   ],
   "source": [
    "# red Met data\n",
    "file_path = '/Users/yas063/Desktop/LLM/Google_Kaggle_GenAI_Bootcamp/Capstone Project/data/met_with_images.csv'\n",
    "\n",
    "df = pd.read_csv(file_path)\n",
    "df.head()"
   ]
  },
  {
   "cell_type": "code",
   "execution_count": 3,
   "metadata": {},
   "outputs": [
    {
     "name": "stdout",
     "output_type": "stream",
     "text": [
      "df shape: (248472, 55)\n"
     ]
    }
   ],
   "source": [
    "# print the shape of the dataframe\n",
    "print('df shape:', df.shape)"
   ]
  },
  {
   "cell_type": "code",
   "execution_count": 6,
   "metadata": {},
   "outputs": [
    {
     "name": "stdout",
     "output_type": "stream",
     "text": [
      "df shape: (247565, 55)\n"
     ]
    }
   ],
   "source": [
    "# only keep the rows with image url not empty\n",
    "df = df[df['Primary Image URL'].notna()]\n",
    "# print the shape of the dataframe\n",
    "print('df shape:', df.shape)"
   ]
  },
  {
   "cell_type": "code",
   "execution_count": 7,
   "metadata": {},
   "outputs": [
    {
     "name": "stdout",
     "output_type": "stream",
     "text": [
      "Column names in the dataset:\n",
      "1. Object Number\n",
      "2. Is Highlight\n",
      "3. Is Timeline Work\n",
      "4. Is Public Domain\n",
      "5. Object ID\n",
      "6. Gallery Number\n",
      "7. Department\n",
      "8. AccessionYear\n",
      "9. Object Name\n",
      "10. Title\n",
      "11. Culture\n",
      "12. Period\n",
      "13. Dynasty\n",
      "14. Reign\n",
      "15. Portfolio\n",
      "16. Constituent ID\n",
      "17. Artist Role\n",
      "18. Artist Prefix\n",
      "19. Artist Display Name\n",
      "20. Artist Display Bio\n",
      "21. Artist Suffix\n",
      "22. Artist Alpha Sort\n",
      "23. Artist Nationality\n",
      "24. Artist Begin Date\n",
      "25. Artist End Date\n",
      "26. Artist Gender\n",
      "27. Artist ULAN URL\n",
      "28. Artist Wikidata URL\n",
      "29. Object Date\n",
      "30. Object Begin Date\n",
      "31. Object End Date\n",
      "32. Medium\n",
      "33. Dimensions\n",
      "34. Credit Line\n",
      "35. Geography Type\n",
      "36. City\n",
      "37. State\n",
      "38. County\n",
      "39. Country\n",
      "40. Region\n",
      "41. Subregion\n",
      "42. Locale\n",
      "43. Locus\n",
      "44. Excavation\n",
      "45. River\n",
      "46. Classification\n",
      "47. Rights and Reproduction\n",
      "48. Link Resource\n",
      "49. Object Wikidata URL\n",
      "50. Metadata Date\n",
      "51. Repository\n",
      "52. Tags\n",
      "53. Tags AAT URL\n",
      "54. Tags Wikidata URL\n",
      "55. Primary Image URL\n"
     ]
    }
   ],
   "source": [
    "# print column names, there are 55 feature columns\n",
    "print(\"Column names in the dataset:\")\n",
    "for i, col in enumerate(df.columns):\n",
    "    print(f\"{i+1}. {col}\")"
   ]
  },
  {
   "cell_type": "code",
   "execution_count": 8,
   "metadata": {},
   "outputs": [
    {
     "name": "stdout",
     "output_type": "stream",
     "text": [
      "Department\n",
      "Drawings and Prints                          65379\n",
      "European Sculpture and Decorative Arts       33783\n",
      "Asian Art                                    30709\n",
      "Greek and Roman Art                          29819\n",
      "Islamic Art                                  13220\n",
      "Egyptian Art                                 12181\n",
      "The American Wing                            11792\n",
      "Costume Institute                             8298\n",
      "Arms and Armor                                7075\n",
      "Medieval Art                                  6917\n",
      "Photographs                                   6415\n",
      "Arts of Africa, Oceania, and the Americas     6318\n",
      "Ancient Near Eastern Art                      6177\n",
      "European Paintings                            2322\n",
      "Robert Lehman Collection                      2272\n",
      "The Cloisters                                 2269\n",
      "Musical Instruments                           2269\n",
      "Modern and Contemporary Art                    203\n",
      "The Libraries                                  147\n",
      "Name: count, dtype: int64\n"
     ]
    }
   ],
   "source": [
    "# distribution of department: the majority are Drawings and Prints\n",
    "print(df['Department'].value_counts())"
   ]
  },
  {
   "cell_type": "markdown",
   "metadata": {},
   "source": [
    "For demonstration purposes, we will use a sample of 50 artworks from the Drawings and Prints Department."
   ]
  },
  {
   "cell_type": "code",
   "execution_count": 9,
   "metadata": {},
   "outputs": [],
   "source": [
    "# sample 50 data points from Drawings and Prints department\n",
    "sample_df = df[df['Department'] == 'Drawings and Prints'].sample(50)\n",
    "\n",
    "# save the sample dataframe to a csv file\n",
    "sample_df.to_csv('data/sample50_df_drawings_and_prints.csv', index=False)"
   ]
  },
  {
   "cell_type": "markdown",
   "metadata": {},
   "source": [
    "## Data Cleaning and Feature Selection"
   ]
  },
  {
   "cell_type": "code",
   "execution_count": 17,
   "metadata": {},
   "outputs": [
    {
     "name": "stdout",
     "output_type": "stream",
     "text": [
      "df shape: (50, 55)\n"
     ]
    }
   ],
   "source": [
    "# Load sampled data\n",
    "file_path = 'data/sample50_df_drawings_and_prints.csv'\n",
    "\n",
    "df = pd.read_csv(file_path)\n",
    "print('df shape:', df.shape)"
   ]
  },
  {
   "cell_type": "code",
   "execution_count": 20,
   "metadata": {},
   "outputs": [
    {
     "name": "stdout",
     "output_type": "stream",
     "text": [
      "<class 'pandas.core.frame.DataFrame'>\n",
      "RangeIndex: 50 entries, 0 to 49\n",
      "Data columns (total 35 columns):\n",
      " #   Column               Non-Null Count  Dtype  \n",
      "---  ------               --------------  -----  \n",
      " 0   Object Number        50 non-null     object \n",
      " 1   Is Highlight         50 non-null     bool   \n",
      " 2   Is Timeline Work     50 non-null     bool   \n",
      " 3   Is Public Domain     50 non-null     bool   \n",
      " 4   Object ID            50 non-null     int64  \n",
      " 5   Department           50 non-null     object \n",
      " 6   AccessionYear        50 non-null     float64\n",
      " 7   Object Name          50 non-null     object \n",
      " 8   Title                50 non-null     object \n",
      " 9   Constituent ID       49 non-null     object \n",
      " 10  Artist Role          49 non-null     object \n",
      " 11  Artist Prefix        49 non-null     object \n",
      " 12  Artist Display Name  49 non-null     object \n",
      " 13  Artist Display Bio   49 non-null     object \n",
      " 14  Artist Suffix        49 non-null     object \n",
      " 15  Artist Alpha Sort    49 non-null     object \n",
      " 16  Artist Nationality   49 non-null     object \n",
      " 17  Artist Begin Date    49 non-null     object \n",
      " 18  Artist End Date      49 non-null     object \n",
      " 19  Artist Gender        21 non-null     object \n",
      " 20  Artist ULAN URL      39 non-null     object \n",
      " 21  Artist Wikidata URL  39 non-null     object \n",
      " 22  Object Date          49 non-null     object \n",
      " 23  Object Begin Date    50 non-null     int64  \n",
      " 24  Object End Date      50 non-null     int64  \n",
      " 25  Medium               50 non-null     object \n",
      " 26  Dimensions           49 non-null     object \n",
      " 27  Credit Line          50 non-null     object \n",
      " 28  Classification       50 non-null     object \n",
      " 29  Link Resource        50 non-null     object \n",
      " 30  Repository           50 non-null     object \n",
      " 31  Tags                 44 non-null     object \n",
      " 32  Tags AAT URL         44 non-null     object \n",
      " 33  Tags Wikidata URL    44 non-null     object \n",
      " 34  Primary Image URL    50 non-null     object \n",
      "dtypes: bool(3), float64(1), int64(3), object(28)\n",
      "memory usage: 12.8+ KB\n",
      "df shape: (50, 35)\n",
      "Remaining column names in the dataset:\n"
     ]
    }
   ],
   "source": [
    "# Drop features columns with more than 70% null values\n",
    "# Number of features is reduced from 55 to 35.\n",
    "\n",
    "df_cleaned = df.dropna(thresh=0.3 * len(df), axis=1)\n",
    "df_cleaned.info()\n",
    "# print the shape of the dataframe\n",
    "print('df shape:', df_cleaned.shape)\n",
    "# print the column names\n",
    "print(\"Remaining column names in the dataset:\")"
   ]
  },
  {
   "cell_type": "code",
   "execution_count": 21,
   "metadata": {},
   "outputs": [
    {
     "data": {
      "text/plain": [
       "{'Object Number': '32.62.19',\n",
       " 'Is Highlight': False,\n",
       " 'Is Timeline Work': False,\n",
       " 'Is Public Domain': True,\n",
       " 'Object ID': 333979,\n",
       " 'Department': 'Drawings and Prints',\n",
       " 'AccessionYear': 1932.0,\n",
       " 'Object Name': 'Print',\n",
       " 'Title': 'Plate 11 from \"The Disasters of War\" (Los Desastres de la Guerra): \\'Neither do these\\' (Ni por esas)',\n",
       " 'Constituent ID': '16195',\n",
       " 'Artist Role': 'Artist',\n",
       " 'Artist Prefix': ' ',\n",
       " 'Artist Display Name': 'Goya (Francisco de Goya y Lucientes)',\n",
       " 'Artist Display Bio': 'Spanish, Fuendetodos 1746–1828 Bordeaux',\n",
       " 'Artist Suffix': ' ',\n",
       " 'Artist Alpha Sort': 'Goya (Francisco de Goya y Lucientes)',\n",
       " 'Artist Nationality': 'Spanish',\n",
       " 'Artist Begin Date': '1746      ',\n",
       " 'Artist End Date': '1828      ',\n",
       " 'Artist Gender': None,\n",
       " 'Artist ULAN URL': 'http://vocab.getty.edu/page/ulan/500118936',\n",
       " 'Artist Wikidata URL': 'https://www.wikidata.org/wiki/Q5432',\n",
       " 'Object Date': 'ca. 1810',\n",
       " 'Object Begin Date': 1805,\n",
       " 'Object End Date': 1815,\n",
       " 'Medium': 'Etching, drypoint, burin (working proof)',\n",
       " 'Dimensions': 'Plate: 6 5/16 × 8 3/8 in. (16.1 × 21.2 cm)\\r\\nSheet: 8 3/8 × 12 3/4 in. (21.3 × 32.4 cm)',\n",
       " 'Credit Line': 'Harris Brisbane Dick Fund, 1932',\n",
       " 'Classification': 'Prints',\n",
       " 'Link Resource': 'http://www.metmuseum.org/art/collection/search/333979',\n",
       " 'Repository': 'Metropolitan Museum of Art, New York, NY',\n",
       " 'Tags': 'Soldiers|Infants|Men|Women',\n",
       " 'Tags AAT URL': 'http://vocab.getty.edu/page/aat/300185678|http://vocab.getty.edu/page/aat/300189561|http://vocab.getty.edu/page/aat/300025928|http://vocab.getty.edu/page/aat/300025943',\n",
       " 'Tags Wikidata URL': 'https://www.wikidata.org/wiki/Q4991371|https://www.wikidata.org/wiki/Q998|https://www.wikidata.org/wiki/Q8441|https://www.wikidata.org/wiki/Q467',\n",
       " 'Primary Image URL': 'https://images.metmuseum.org/CRDImages/dp/original/DP817292.jpg'}"
      ]
     },
     "execution_count": 21,
     "metadata": {},
     "output_type": "execute_result"
    }
   ],
   "source": [
    "# Have a look at the content of each feature column by reading the first row of the dataframe and print it as json\n",
    "artwork_data = df_cleaned.iloc[0].to_json()\n",
    "artwork_data = json.loads(artwork_data)\n",
    "artwork_data"
   ]
  },
  {
   "cell_type": "markdown",
   "metadata": {},
   "source": [
    "**Observations:**\n",
    "\n",
    "Analyzing the data structure, we can categorize the features into these groups:\n",
    "\n",
    "1. Artwork-Related Features\n",
    "- title, object name, date, medium, dimensions\n",
    "- These features are essential for generating descriptive prompts\n",
    "- Provide context about the physical attributes and historical period\n",
    "\n",
    "2. Artist-Related Features\n",
    "- name, biography, nationality, lifespan\n",
    "- Critical for generating contextual prompts\n",
    "- Enable historical and cultural context in descriptions\n",
    "\n",
    "3. System Features and References\n",
    "- object IDs, accession numbers, URLs\n",
    "- Limited utility for text generation\n",
    "- Valuable for:\n",
    "  - RAG system queries\n",
    "  - External resource linking\n",
    "  - Image retrieval for supplementary visual analysis"
   ]
  },
  {
   "cell_type": "markdown",
   "metadata": {},
   "source": [
    "**Using AI to Identify Informative Features**\n",
    "\n",
    "Let's leverage Gemini-2.5-Pro to analyze our dataset and determine the most relevant columns for artwork description generation.\n",
    "\n",
    "Below is what Gemini thinks are the most important columns for our task:"
   ]
  },
  {
   "cell_type": "code",
   "execution_count": 22,
   "metadata": {},
   "outputs": [],
   "source": [
    "# --- Column Selection ---\n",
    "\n",
    "# Define Tier 1 columns (Essential)\n",
    "# Note: Included individual artist date/nationality fields as they are part of the bio context\n",
    "tier1_cols = [\n",
    "    'Title',\n",
    "    'Artist Display Name',\n",
    "    'Artist Display Bio',\n",
    "    'Artist Nationality', # Component of Bio\n",
    "    'Artist Begin Date',  # Component of Bio\n",
    "    'Artist End Date',    # Component of Bio\n",
    "    'Object Date',\n",
    "    'Object Begin Date', # Included as it specifies the date range start\n",
    "    'Object End Date',   # Included as it specifies the date range end\n",
    "    'Medium',\n",
    "    'Tags',\n",
    "    'Primary Image URL'\n",
    "]\n",
    "\n",
    "# Define Tier 2 columns (Highly Useful)\n",
    "tier2_cols = [\n",
    "    'Dimensions',\n",
    "    'Department',\n",
    "    'Object Name',\n",
    "    'Classification',\n",
    "    'Repository',\n",
    "    'Tags AAT URL',\n",
    "    'Tags Wikidata URL',\n",
    "    'Artist Role'\n",
    "]\n",
    "\n",
    "# Define ID columns\n",
    "id_cols = [\n",
    "    'Object ID',\n",
    "    'Object Number', # Often used as a primary museum identifier\n",
    "    'Constituent ID'\n",
    "]\n",
    "\n",
    "# Combine all desired columns into a single list\n",
    "# Using set to automatically handle potential duplicates if any column was listed twice\n",
    "all_desired_cols = list(set(id_cols + tier1_cols + tier2_cols))"
   ]
  },
  {
   "cell_type": "code",
   "execution_count": 23,
   "metadata": {},
   "outputs": [
    {
     "name": "stdout",
     "output_type": "stream",
     "text": [
      "df_cleaned_selected shape: (50, 23)\n"
     ]
    }
   ],
   "source": [
    "# We take Gemini's suggestion and keep only the 23 desired columns\n",
    "df_cleaned_selected_gemini = df_cleaned[all_desired_cols]\n",
    "# print the shape of the dataframe\n",
    "print('df_cleaned_selected shape:', df_cleaned_selected_gemini.shape)"
   ]
  },
  {
   "cell_type": "code",
   "execution_count": 24,
   "metadata": {},
   "outputs": [],
   "source": [
    "# save the dataframe after cleaning and feature selection into a csv file\n",
    "df_cleaned_selected_gemini.to_csv('data/sample50_drawings_and_prints_cleaned.csv', index=False)"
   ]
  },
  {
   "cell_type": "markdown",
   "metadata": {},
   "source": [
    "# Part 2: Baseline Generation"
   ]
  },
  {
   "cell_type": "markdown",
   "metadata": {},
   "source": [
    "For baseline implementation, we perform these steps:\n",
    "- Select a few basic features exclude ids and urls.\n",
    "- Ceate a structured prompt template.\n",
    "- Use Gemini-2.0-Flash API to generate detailed artwork explanations.\n",
    "\n",
    "(For later optimization, we will add image url for generation)"
   ]
  },
  {
   "cell_type": "code",
   "execution_count": 25,
   "metadata": {},
   "outputs": [],
   "source": [
    "# load the selected dataframe\n",
    "df_selected = pd.read_csv('data/sample50_drawings_and_prints_cleaned.csv')"
   ]
  },
  {
   "cell_type": "code",
   "execution_count": 26,
   "metadata": {},
   "outputs": [
    {
     "name": "stdout",
     "output_type": "stream",
     "text": [
      "Index(['Object Date', 'Department', 'Dimensions', 'Object End Date', 'Medium',\n",
      "       'Object Number', 'Object Name', 'Title', 'Primary Image URL',\n",
      "       'Classification', 'Constituent ID', 'Repository', 'Tags AAT URL',\n",
      "       'Artist Display Bio', 'Tags', 'Artist End Date', 'Object Begin Date',\n",
      "       'Artist Display Name', 'Artist Role', 'Object ID', 'Artist Begin Date',\n",
      "       'Tags Wikidata URL', 'Artist Nationality'],\n",
      "      dtype='object')\n"
     ]
    }
   ],
   "source": [
    "# print the column names\n",
    "print(df_selected.columns)"
   ]
  },
  {
   "cell_type": "markdown",
   "metadata": {},
   "source": [
    "Select a few basic features exclude ids and urls."
   ]
  },
  {
   "cell_type": "code",
   "execution_count": 27,
   "metadata": {},
   "outputs": [
    {
     "data": {
      "text/plain": [
       "['Artist End Date',\n",
       " 'Object Begin Date',\n",
       " 'Department',\n",
       " 'Object Date',\n",
       " 'Artist Display Name',\n",
       " 'Artist Role',\n",
       " 'Dimensions',\n",
       " 'Medium',\n",
       " 'Object End Date',\n",
       " 'Object Name',\n",
       " 'Title',\n",
       " 'Artist Begin Date',\n",
       " 'Classification',\n",
       " 'Repository',\n",
       " 'Artist Display Bio',\n",
       " 'Artist Nationality',\n",
       " 'Tags']"
      ]
     },
     "execution_count": 27,
     "metadata": {},
     "output_type": "execute_result"
    }
   ],
   "source": [
    "# For baseline, we do not use id and url into the prompt\n",
    "url_cols = ['Primary Image URL','Tags AAT URL','Tags Wikidata URL']\n",
    "id_cols = ['Object ID','Object Number','Constituent ID']\n",
    "\n",
    "baseline_cols = list(set(df_selected.columns) - set(url_cols) - set(id_cols))\n",
    "baseline_cols"
   ]
  },
  {
   "cell_type": "markdown",
   "metadata": {},
   "source": [
    "Ceate a structured prompt template."
   ]
  },
  {
   "cell_type": "code",
   "execution_count": 28,
   "metadata": {},
   "outputs": [
    {
     "name": "stdout",
     "output_type": "stream",
     "text": [
      "\n",
      "--- Generating Prompts ---\n"
     ]
    }
   ],
   "source": [
    "# --- Prompt Generation ---\n",
    "\n",
    "# Define the prompt template using f-string syntax\n",
    "# It includes placeholders for all columns we intend to use\n",
    "# Note: We access columns present in 'existing_cols' which are the intersection of 'all_desired_cols' and df.columns\n",
    "prompt_template = \"\"\"\n",
    "You are a helpful tour guide in an art gallery. \n",
    "Please provide an explanation and insights for the following artwork to the visitor, using the details provided:\n",
    "\n",
    "**Artwork Details:**\n",
    "{details}\n",
    "\n",
    "**Instructions:**\n",
    "Based on these details, please generate a concise explanation. Focus on:\n",
    "1.  The artist's background and context (using bio, nationality, dates).\n",
    "2.  The artwork's subject matter (using title and tags).\n",
    "3.  The historical period and significance (using object dates).\n",
    "4.  The materials and techniques used (using medium and classification).\n",
    "5.  Mention its size (dimensions) and where it is located (repository).\n",
    "\"\"\"\n",
    "\n",
    "# List to store the generated prompts\n",
    "generated_prompts = []\n",
    "\n",
    "print(\"\\n--- Generating Prompts ---\")\n",
    "\n",
    "# Iterate through each row of the extracted DataFrame\n",
    "for index, row in df_selected.iterrows():\n",
    "    # Create the details string for the current artwork\n",
    "    details_str = \"\"\n",
    "    for col_name in baseline_cols: # Iterate only through \n",
    "        # Ensure the value is converted to string, handle potential None/NaN values\n",
    "        value = str(row[col_name]) if pd.notna(row[col_name]) else \"N/A\"\n",
    "        details_str += f\"* **{col_name}:** {value}\\n\"\n",
    "\n",
    "    # Format the full prompt using the template and the generated details string\n",
    "    full_prompt = prompt_template.format(details=details_str.strip())\n",
    "    generated_prompts.append(full_prompt)"
   ]
  },
  {
   "cell_type": "code",
   "execution_count": 29,
   "metadata": {},
   "outputs": [
    {
     "name": "stdout",
     "output_type": "stream",
     "text": [
      "\n",
      "Example of a generated prompt (for the first artwork):\n",
      "\n",
      "You are a helpful tour guide in an art gallery. \n",
      "Please provide an explanation and insights for the following artwork to the visitor, using the details provided:\n",
      "\n",
      "**Artwork Details:**\n",
      "* **Artist End Date:** 1828      \n",
      "* **Object Begin Date:** 1805\n",
      "* **Department:** Drawings and Prints\n",
      "* **Object Date:** ca. 1810\n",
      "* **Artist Display Name:** Goya (Francisco de Goya y Lucientes)\n",
      "* **Artist Role:** Artist\n",
      "* **Dimensions:** Plate: 6 5/16 × 8 3/8 in. (16.1 × 21.2 cm)\n",
      "Sheet: 8 3/8 × 12 3/4 in. (21.3 × 32.4 cm)\n",
      "* **Medium:** Etching, drypoint, burin (working proof)\n",
      "* **Object End Date:** 1815\n",
      "* **Object Name:** Print\n",
      "* **Title:** Plate 11 from \"The Disasters of War\" (Los Desastres de la Guerra): 'Neither do these' (Ni por esas)\n",
      "* **Artist Begin Date:** 1746      \n",
      "* **Classification:** Prints\n",
      "* **Repository:** Metropolitan Museum of Art, New York, NY\n",
      "* **Artist Display Bio:** Spanish, Fuendetodos 1746–1828 Bordeaux\n",
      "* **Artist Nationality:** Spanish\n",
      "* **Tags:** Soldiers|Infants|Men|Women\n",
      "\n",
      "**Instructions:**\n",
      "Based on these details, please generate a concise explanation. Focus on:\n",
      "1.  The artist's background and context (using bio, nationality, dates).\n",
      "2.  The artwork's subject matter (using title and tags).\n",
      "3.  The historical period and significance (using object dates).\n",
      "4.  The materials and techniques used (using medium and classification).\n",
      "5.  Mention its size (dimensions) and where it is located (repository).\n",
      "\n",
      "\n",
      "Total prompts generated: 50\n"
     ]
    }
   ],
   "source": [
    "# --- Display Example Prompt ---\n",
    "if generated_prompts:\n",
    "    print(\"\\nExample of a generated prompt (for the first artwork):\")\n",
    "    print(generated_prompts[0])\n",
    "    print(f\"\\nTotal prompts generated: {len(generated_prompts)}\")\n",
    "else:\n",
    "    print(\"\\nNo prompts were generated (DataFrame might be empty or columns missing).\")"
   ]
  },
  {
   "cell_type": "markdown",
   "metadata": {},
   "source": [
    "Use Gemini-2.0-Flash API to generate detailed artwork explanations."
   ]
  },
  {
   "cell_type": "code",
   "execution_count": 30,
   "metadata": {},
   "outputs": [
    {
     "name": "stdout",
     "output_type": "stream",
     "text": [
      "Generated explanation for artwork 1/50\n",
      "Generated explanation for artwork 2/50\n",
      "Generated explanation for artwork 3/50\n",
      "Generated explanation for artwork 4/50\n",
      "Generated explanation for artwork 5/50\n",
      "Generated explanation for artwork 6/50\n",
      "Generated explanation for artwork 7/50\n",
      "Generated explanation for artwork 8/50\n",
      "Generated explanation for artwork 9/50\n",
      "Generated explanation for artwork 10/50\n",
      "Generated explanation for artwork 11/50\n",
      "Generated explanation for artwork 12/50\n",
      "Generated explanation for artwork 13/50\n",
      "Generated explanation for artwork 14/50\n",
      "Generated explanation for artwork 15/50\n",
      "\n",
      "Waiting for 1 minute after 15 calls...\n",
      "Resuming generation...\n",
      "Generated explanation for artwork 16/50\n",
      "Generated explanation for artwork 17/50\n",
      "Generated explanation for artwork 18/50\n",
      "Generated explanation for artwork 19/50\n",
      "Generated explanation for artwork 20/50\n",
      "Generated explanation for artwork 21/50\n",
      "Generated explanation for artwork 22/50\n",
      "Generated explanation for artwork 23/50\n",
      "Generated explanation for artwork 24/50\n",
      "Generated explanation for artwork 25/50\n",
      "Generated explanation for artwork 26/50\n",
      "Generated explanation for artwork 27/50\n",
      "Generated explanation for artwork 28/50\n",
      "Generated explanation for artwork 29/50\n",
      "Generated explanation for artwork 30/50\n",
      "\n",
      "Waiting for 1 minute after 30 calls...\n",
      "Resuming generation...\n",
      "Generated explanation for artwork 31/50\n",
      "Generated explanation for artwork 32/50\n",
      "Generated explanation for artwork 33/50\n",
      "Generated explanation for artwork 34/50\n",
      "Generated explanation for artwork 35/50\n",
      "Generated explanation for artwork 36/50\n",
      "Generated explanation for artwork 37/50\n",
      "Generated explanation for artwork 38/50\n",
      "Generated explanation for artwork 39/50\n",
      "Generated explanation for artwork 40/50\n",
      "Generated explanation for artwork 41/50\n",
      "Generated explanation for artwork 42/50\n",
      "Generated explanation for artwork 43/50\n",
      "Generated explanation for artwork 44/50\n",
      "Generated explanation for artwork 45/50\n",
      "\n",
      "Waiting for 1 minute after 45 calls...\n",
      "Resuming generation...\n",
      "Generated explanation for artwork 46/50\n",
      "Generated explanation for artwork 47/50\n",
      "Generated explanation for artwork 48/50\n",
      "Generated explanation for artwork 49/50\n",
      "Generated explanation for artwork 50/50\n"
     ]
    }
   ],
   "source": [
    "# Generate the explanations, wait for 1 minute after every 15 calls because of the rate limit\n",
    "import time\n",
    "from google import genai\n",
    "\n",
    "client = genai.Client(api_key=GEMINI_API_KEY)\n",
    "\n",
    "responses = []\n",
    "for i, prompt in enumerate(generated_prompts):\n",
    "    try:\n",
    "        # Add 1 minute wait after every 15 calls\n",
    "        if i > 0 and i % 15 == 0:\n",
    "            print(f\"\\nWaiting for 1 minute after {i} calls...\")\n",
    "            time.sleep(60)  # Wait for 60 seconds\n",
    "            print(\"Resuming generation...\")\n",
    "            \n",
    "        response = client.models.generate_content(\n",
    "            model=\"gemini-2.0-flash\", contents=prompt\n",
    "        )\n",
    "        responses.append(response.text)\n",
    "        print(f\"Generated explanation for artwork {i + 1}/{len(generated_prompts)}\")\n",
    "        \n",
    "    except Exception as e:\n",
    "        print(f\"Error generating explanation for artwork {i + 1}: {e}\")\n",
    "        responses.append(f\"Error: {e}\")"
   ]
  },
  {
   "cell_type": "code",
   "execution_count": 31,
   "metadata": {},
   "outputs": [],
   "source": [
    "# Combine prompts and responses into a structured format\n",
    "\n",
    "# Create a list of dictionaries containing both prompts and responses\n",
    "combined_data = []\n",
    "for i, (prompt, response) in enumerate(zip(generated_prompts, responses)):\n",
    "    combined_data.append({\n",
    "        'artwork_index': i + 1,\n",
    "        'prompt': prompt,\n",
    "        'response': response\n",
    "    })\n",
    "\n",
    "# Convert to DataFrame\n",
    "df_output = pd.DataFrame(combined_data)\n",
    "\n",
    "# Save as CSV\n",
    "csv_filename = 'results/baseline/prompts_and_generation.csv'\n",
    "df_output.to_csv(csv_filename, index=False)"
   ]
  },
  {
   "cell_type": "markdown",
   "metadata": {},
   "source": [
    "# Part 3 Evaluation with Structured Output"
   ]
  },
  {
   "cell_type": "markdown",
   "metadata": {},
   "source": [
    "For this part we :\n",
    "1. Create a evaluation prompt and use llm to evaluate the quality of the generated explanation.\n",
    "2. Structure the rating score into 1 to 5."
   ]
  },
  {
   "cell_type": "code",
   "execution_count": 32,
   "metadata": {},
   "outputs": [],
   "source": [
    "# Define the evaluation prompt\n",
    "EVALUATION_PROMPT = \"\"\"\\\n",
    "# Instruction\n",
    "You are an expert evaluator, knowledgeable in art history and analysis. Your task is to evaluate the quality of the responses generated by AI models that provide explanations for artworks.\n",
    "We will provide you with the user input (which should ideally contain information about the artwork, like its title, artist, or a description) and the AI-generated response.\n",
    "You should first read the user input carefully to understand the task and identify the subject artwork from the information provided in the prompt. Then, evaluate the quality of the AI response based on the Criteria provided in the Evaluation section below.\n",
    "You will assign the response a rating following the Rating Rubric and Evaluation Steps. Give step-by-step explanations for your rating, and only choose ratings from the Rating Rubric.\n",
    "\n",
    "# Evaluation\n",
    "## Metric Definition\n",
    "You will be assessing Artwork Explanation Quality. This measures the AI's ability to provide an accurate, insightful, relevant, and clear explanation of a piece of art, as identified or described in the user prompt. The evaluation should consider how well the explanation addresses the user's specific prompt and relates directly to the artwork in question.\n",
    "\n",
    "## Criteria\n",
    "1. Instruction Following: The response directly addresses the user's prompt, adhering to any specified constraints (e.g., focus on symbolism, explain to a child, compare two works).\n",
    "2. Accuracy: The information presented (artist, date, period, style, technique, common interpretations) is factually correct based on established art historical knowledge for the artwork identified in the prompt.\n",
    "3. Artwork Focus/Relevance: The explanation is clearly and specifically about the artwork identified in the prompt. It avoids overly generic statements and connects observations directly to the visual elements or known context of the piece.\n",
    "4. Analytical Depth: The response goes beyond superficial description. It offers insights into technique, composition, symbolism, historical context, or artistic intent, demonstrating analytical thinking relevant to the identified artwork.\n",
    "5. Clarity and Cohesion: The explanation is well-organized, uses clear and understandable language, and flows logically.\n",
    "6. Contextualization: The response appropriately places the artwork within its relevant context (e.g., artist's life, art movement, historical period, cultural background) when necessary for understanding, based on the artwork identified in the prompt.\n",
    "\n",
    "## Rating Rubric\n",
    "5 (Very Good): Excels in all criteria. Accurate, insightful, highly relevant to the artwork in the prompt, clearly written, follows instructions perfectly, and provides strong context. Demonstrates a nuanced understanding.\n",
    "4 (Good): Strong performance. Accurate, relevant, and clear. Follows instructions well. May lack some analytical depth or contextual nuance compared to a top score, but is a solid explanation for the artwork in the prompt.\n",
    "3 (Ok): Acceptable explanation. Generally accurate and follows instructions but may be superficial, lack sufficient depth or context, have minor clarity issues, or include slightly irrelevant information. Gets the basics right for the artwork in the prompt but isn't particularly insightful.\n",
    "2 (Bad): Significant issues. Contains notable inaccuracies OR fails to follow key instructions OR is poorly focused/largely irrelevant to the artwork in the prompt OR is unclear/difficult to understand OR lacks necessary context/depth. (Note: If the prompt was too vague to identify an artwork, evaluate based on how the AI handled the ambiguity).\n",
    "1 (Very Bad): Fundamentally flawed. Contains major factual errors, completely ignores the prompt, is irrelevant to any reasonable interpretation of the artwork suggested by the prompt, is incoherent, or provides harmful/misleading information.\n",
    "\n",
    "## Evaluation Steps\n",
    "* STEP 1: Carefully read the user prompt to understand the request and identify the subject artwork based *only* on the prompt's content. Note any ambiguity in the prompt itself.\n",
    "* STEP 2: Read the AI-generated response.\n",
    "* STEP 3: Assess the response against each criterion: Instruction Following, Accuracy, Artwork Focus/Relevance, Analytical Depth, Clarity and Cohesion, and Contextualization, judging relevance and accuracy based on the artwork identified in Step 1.\n",
    "* STEP 4: Determine the overall quality and assign a rating from 1 to 5 based on the rubric, justifying your score with reference to the criteria and specific examples from the response. Acknowledge if prompt limitations impacted the possible response quality.\n",
    "\n",
    "# User Inputs and AI-generated Response\n",
    "## User Inputs\n",
    "\n",
    "### Prompt\n",
    "{prompt}\n",
    "\n",
    "## AI-generated Response\n",
    "{response}\n",
    "\"\"\""
   ]
  },
  {
   "cell_type": "code",
   "execution_count": 33,
   "metadata": {},
   "outputs": [],
   "source": [
    "# Define a structured enum class to capture the result.\n",
    "class SummaryRating(enum.Enum):\n",
    "  VERY_GOOD = '5'\n",
    "  GOOD = '4'\n",
    "  OK = '3'\n",
    "  BAD = '2'\n",
    "  VERY_BAD = '1'\n",
    "\n",
    "# define a function to evaluate the generated explanation\n",
    "def eval_generation(prompt, ai_response):\n",
    "  \"\"\"Evaluate the generated explanation against the prompt used.\"\"\"\n",
    "\n",
    "  chat = client.chats.create(model='gemini-2.0-flash')\n",
    "\n",
    "  # Generate the full text response.\n",
    "  response = chat.send_message(\n",
    "      message=EVALUATION_PROMPT.format(prompt=prompt, response=ai_response)\n",
    "  )\n",
    "  verbose_eval = response.text\n",
    "\n",
    "  # Coerce into the desired structure.\n",
    "  structured_output_config = types.GenerateContentConfig(\n",
    "      response_mime_type=\"application/json\",\n",
    "      response_schema=SummaryRating,\n",
    "  )\n",
    "  response = chat.send_message(\n",
    "      message=\"Convert the final score.\",\n",
    "      config=structured_output_config,\n",
    "  )\n",
    "  structured_eval = response.parsed\n",
    "\n",
    "  return verbose_eval, structured_eval\n"
   ]
  },
  {
   "cell_type": "code",
   "execution_count": 34,
   "metadata": {},
   "outputs": [
    {
     "name": "stdout",
     "output_type": "stream",
     "text": [
      "Evaluated artwork 1/50\n",
      "Evaluated artwork 2/50\n",
      "Evaluated artwork 3/50\n",
      "Evaluated artwork 4/50\n",
      "Evaluated artwork 5/50\n",
      "Evaluated artwork 6/50\n",
      "Evaluated artwork 7/50\n",
      "Evaluated artwork 8/50\n",
      "\n",
      "Waiting for 1 minute after 8 calls...\n",
      "Resuming evaluation...\n",
      "Evaluated artwork 9/50\n",
      "Evaluated artwork 10/50\n",
      "Evaluated artwork 11/50\n",
      "Evaluated artwork 12/50\n",
      "Evaluated artwork 13/50\n",
      "Evaluated artwork 14/50\n",
      "Evaluated artwork 15/50\n",
      "Evaluated artwork 16/50\n",
      "\n",
      "Waiting for 1 minute after 16 calls...\n",
      "Resuming evaluation...\n",
      "Evaluated artwork 17/50\n",
      "Evaluated artwork 18/50\n",
      "Evaluated artwork 19/50\n",
      "Evaluated artwork 20/50\n",
      "Evaluated artwork 21/50\n",
      "Evaluated artwork 22/50\n",
      "Evaluated artwork 23/50\n",
      "Evaluated artwork 24/50\n",
      "\n",
      "Waiting for 1 minute after 24 calls...\n",
      "Resuming evaluation...\n",
      "Evaluated artwork 25/50\n",
      "Evaluated artwork 26/50\n",
      "Evaluated artwork 27/50\n",
      "Evaluated artwork 28/50\n",
      "Evaluated artwork 29/50\n",
      "Evaluated artwork 30/50\n",
      "Evaluated artwork 31/50\n",
      "Evaluated artwork 32/50\n",
      "\n",
      "Waiting for 1 minute after 32 calls...\n",
      "Resuming evaluation...\n",
      "Evaluated artwork 33/50\n",
      "Evaluated artwork 34/50\n",
      "Evaluated artwork 35/50\n",
      "Evaluated artwork 36/50\n",
      "Evaluated artwork 37/50\n",
      "Evaluated artwork 38/50\n",
      "Evaluated artwork 39/50\n",
      "Evaluated artwork 40/50\n",
      "\n",
      "Waiting for 1 minute after 40 calls...\n",
      "Resuming evaluation...\n",
      "Evaluated artwork 41/50\n",
      "Evaluated artwork 42/50\n",
      "Evaluated artwork 43/50\n",
      "Evaluated artwork 44/50\n",
      "Evaluated artwork 45/50\n",
      "Evaluated artwork 46/50\n",
      "Evaluated artwork 47/50\n",
      "Evaluated artwork 48/50\n",
      "\n",
      "Waiting for 1 minute after 48 calls...\n",
      "Resuming evaluation...\n",
      "Evaluated artwork 49/50\n",
      "Evaluated artwork 50/50\n",
      "\n",
      "Results saved to: results/baseline/evaluation_results.csv\n"
     ]
    }
   ],
   "source": [
    "# load generated prompts and responses\n",
    "prompts_and_generation = pd.read_csv('results/baseline/prompts_and_generation.csv')\n",
    "\n",
    "# evaluate all prompts and responses\n",
    "evaluation_results = []\n",
    "for i, (prompt, response) in enumerate(zip(prompts_and_generation['prompt'], prompts_and_generation['response'])):\n",
    "    try:\n",
    "        # Add 1 minute wait after every 8 calls\n",
    "        if i > 0 and i % 8 == 0:\n",
    "            print(f\"\\nWaiting for 1 minute after {i} calls...\")\n",
    "            time.sleep(60)  # Wait for 60 seconds\n",
    "            print(\"Resuming evaluation...\")\n",
    "            \n",
    "        text_eval, struct_eval = eval_generation(prompt=prompt, ai_response=response)\n",
    "        evaluation_results.append({\n",
    "            'prompt': prompt,\n",
    "            'response': response,\n",
    "            'rating': struct_eval,\n",
    "            'evaluation_text': text_eval\n",
    "        })\n",
    "        print(f\"Evaluated artwork {i + 1}/{len(prompts_and_generation)}\")\n",
    "        \n",
    "    except Exception as e:\n",
    "        print(f\"Error evaluating artwork {i + 1}: {e}\")\n",
    "        evaluation_results.append({\n",
    "            'prompt': prompt,\n",
    "            'response': response,\n",
    "            'rating': None,\n",
    "            'evaluation_text': f\"Error: {e}\"\n",
    "        })\n",
    "\n",
    "# Convert results to DataFrame\n",
    "evaluation_results_df = pd.DataFrame(evaluation_results)\n",
    "\n",
    "# Save results to CSV\n",
    "csv_filename = 'results/baseline/evaluation_results.csv'\n",
    "evaluation_results_df.to_csv(csv_filename, index=False)\n",
    "print(f\"\\nResults saved to: {csv_filename}\")"
   ]
  },
  {
   "cell_type": "code",
   "execution_count": 35,
   "metadata": {},
   "outputs": [
    {
     "name": "stdout",
     "output_type": "stream",
     "text": [
      "\n",
      "Rating distribution:\n",
      "rating\n",
      "SummaryRating.GOOD         31\n",
      "SummaryRating.VERY_GOOD    19\n",
      "Name: count, dtype: int64\n"
     ]
    }
   ],
   "source": [
    "# Display summary statistics of ratings\n",
    "print(\"\\nRating distribution:\")\n",
    "print(evaluation_results_df['rating'].value_counts())"
   ]
  },
  {
   "cell_type": "markdown",
   "metadata": {},
   "source": [
    "Analysis of evalution results:\n",
    "- 31 GOOD ratings (62%) - Not bad, we're batting above average! \n",
    "- 19 VERY_GOOD ratings (38%) - Pretty impressive, but we're not settling\n",
    "- 0 BAD ratings - At least we didn't crash and burn! 🎉\n",
    "\n",
    "Time for some optimization magic!\n"
   ]
  },
  {
   "cell_type": "markdown",
   "metadata": {},
   "source": [
    "# Part 4 Some Other Experiments"
   ]
  },
  {
   "cell_type": "markdown",
   "metadata": {},
   "source": [
    "## Mastering the Art of Concise Generation via Length Control\n",
    "\n",
    "A common pain point when using audio guides in museums is that each artwork's explanation is pre-recorded and typically runs for several minutes. However, visitors' interest levels vary significantly across different artworks. When encountering pieces that don't immediately capture their attention, visitors often lack the patience to listen through lengthy descriptions.\n",
    "\n",
    "In such scenarios, a concise initial introduction would be more appropriate. If visitors find the artwork intriguing, they can then ask follow-up questions, allowing our model to generate more detailed explanations on demand.\n",
    "\n",
    "In this experiment, we begin by calculating the length statistics of our baseline-generated explanations, followed by implementing output length control to produce more concise explanations (limited to 150 words) to serve as initial artwork introductions."
   ]
  },
  {
   "cell_type": "code",
   "execution_count": 36,
   "metadata": {},
   "outputs": [
    {
     "data": {
      "text/plain": [
       "'Welcome! Let\\'s take a look at this powerful print by Francisco de Goya, specifically Plate 11 from his series \"The Disasters of War,\" titled \"Neither do these\" or \"Ni por esas\" in Spanish.\\n\\nGoya was a Spanish artist, born in 1746 and passed away in 1828, with a long and impactful career spanning various political upheavals. This print, created around 1810, is part of a series reflecting the brutal realities of the Peninsular War, which saw Spain invaded and occupied by Napoleonic forces from around 1808 to 1814. The series as a whole is a searing indictment of war\\'s inhumanity.\\n\\nLooking at the tags - Soldiers, Infants, Men, Women - and the title, you can see the devastating impact of conflict on civilian populations. “Neither do these” implies that not even the most vulnerable—infants—are spared the horrors of war. Goya doesn\\'t shy away from portraying the raw, unvarnished truth.\\n\\nTechnically, this print is a \"working proof,\" meaning it was likely pulled while Goya was still developing the plate. It\\'s a combination of etching, drypoint, and burin, all intaglio techniques where the image is incised into a metal plate. The plate itself is relatively small, about 6 by 8 inches, while the sheet is around 8 by 12 inches.\\n\\n\"The Disasters of War\" is a significant series because it departs from traditional heroic depictions of war. Goya shows us the suffering, the violence, and the moral decay that accompanies armed conflict. This print, along with the rest of the series, offers a stark and enduring reminder of war\\'s devastating consequences. You can find this particular print, and many others from the series, here at the Metropolitan Museum of Art in New York. Any questions?\\n'"
      ]
     },
     "execution_count": 36,
     "metadata": {},
     "output_type": "execute_result"
    }
   ],
   "source": [
    "# load results/baseline/evaluation_results.csv\n",
    "evaluation_results_df = pd.read_csv('results/baseline/evaluation_results.csv')\n",
    "# display in full width\n",
    "pd.set_option('display.max_colwidth', None)\n",
    "evaluation_results_df['response'][0]"
   ]
  },
  {
   "cell_type": "code",
   "execution_count": 37,
   "metadata": {},
   "outputs": [
    {
     "data": {
      "text/plain": [
       "np.float64(223.7)"
      ]
     },
     "execution_count": 37,
     "metadata": {},
     "output_type": "execute_result"
    }
   ],
   "source": [
    "# calcualte the average number of words of the generation\n",
    "evaluation_results_df['response_length'] = evaluation_results_df['response'].apply(lambda x: len(x.split()))\n",
    "evaluation_results_df['response_length'].mean()"
   ]
  },
  {
   "cell_type": "code",
   "execution_count": 38,
   "metadata": {},
   "outputs": [
    {
     "data": {
      "text/plain": [
       "rating\n",
       "SummaryRating.GOOD         224.387097\n",
       "SummaryRating.VERY_GOOD    222.578947\n",
       "Name: response_length, dtype: float64"
      ]
     },
     "execution_count": 38,
     "metadata": {},
     "output_type": "execute_result"
    }
   ],
   "source": [
    "# calcualte the average number of words of the generation for each rating\n",
    "evaluation_results_df.groupby('rating')['response_length'].mean()"
   ]
  },
  {
   "cell_type": "markdown",
   "metadata": {},
   "source": [
    "**Observations:**\n",
    "- The explanations are quite lengthy overall (>220 words, which takes about 3 minutes to read)\n",
    "- Interestingly, there's very little difference in length between GOOD and VERY_GOOD rated explanations (difference of only about 2 words)\n",
    "- This suggests that the quality of explanations isn't strongly correlated with their length - shorter explanations aren't necessarily worse, and longer ones aren't necessarily better\n",
    "\n",
    "This finding supports our experiment's goal to create shorter (150-word, which is about 200-tokens) explanations, as the current length doesn't seem to be a determining factor in explanation quality."
   ]
  },
  {
   "cell_type": "code",
   "execution_count": 39,
   "metadata": {},
   "outputs": [],
   "source": [
    "# extract prompts from evaluation_results_df\n",
    "generated_prompts = evaluation_results_df['prompt']"
   ]
  },
  {
   "cell_type": "code",
   "execution_count": 40,
   "metadata": {},
   "outputs": [
    {
     "name": "stdout",
     "output_type": "stream",
     "text": [
      "Generated explanation for artwork 1/50\n",
      "Generated explanation for artwork 2/50\n",
      "Generated explanation for artwork 3/50\n",
      "Generated explanation for artwork 4/50\n",
      "Generated explanation for artwork 5/50\n",
      "Generated explanation for artwork 6/50\n",
      "Generated explanation for artwork 7/50\n",
      "Generated explanation for artwork 8/50\n",
      "Generated explanation for artwork 9/50\n",
      "Generated explanation for artwork 10/50\n",
      "Generated explanation for artwork 11/50\n",
      "Generated explanation for artwork 12/50\n",
      "Generated explanation for artwork 13/50\n",
      "Generated explanation for artwork 14/50\n",
      "Generated explanation for artwork 15/50\n",
      "\n",
      "Waiting for 1 minute after 15 calls...\n",
      "Resuming generation...\n",
      "Generated explanation for artwork 16/50\n",
      "Generated explanation for artwork 17/50\n",
      "Generated explanation for artwork 18/50\n",
      "Generated explanation for artwork 19/50\n",
      "Generated explanation for artwork 20/50\n",
      "Generated explanation for artwork 21/50\n",
      "Generated explanation for artwork 22/50\n",
      "Generated explanation for artwork 23/50\n",
      "Generated explanation for artwork 24/50\n",
      "Generated explanation for artwork 25/50\n",
      "Generated explanation for artwork 26/50\n",
      "Generated explanation for artwork 27/50\n",
      "Generated explanation for artwork 28/50\n",
      "Generated explanation for artwork 29/50\n",
      "Generated explanation for artwork 30/50\n",
      "\n",
      "Waiting for 1 minute after 30 calls...\n",
      "Resuming generation...\n",
      "Generated explanation for artwork 31/50\n",
      "Generated explanation for artwork 32/50\n",
      "Generated explanation for artwork 33/50\n",
      "Generated explanation for artwork 34/50\n",
      "Generated explanation for artwork 35/50\n",
      "Generated explanation for artwork 36/50\n",
      "Generated explanation for artwork 37/50\n",
      "Generated explanation for artwork 38/50\n",
      "Generated explanation for artwork 39/50\n",
      "Generated explanation for artwork 40/50\n",
      "Generated explanation for artwork 41/50\n",
      "Generated explanation for artwork 42/50\n",
      "Generated explanation for artwork 43/50\n",
      "Generated explanation for artwork 44/50\n",
      "Generated explanation for artwork 45/50\n",
      "\n",
      "Waiting for 1 minute after 45 calls...\n",
      "Resuming generation...\n",
      "Generated explanation for artwork 46/50\n",
      "Generated explanation for artwork 47/50\n",
      "Generated explanation for artwork 48/50\n",
      "Generated explanation for artwork 49/50\n",
      "Generated explanation for artwork 50/50\n"
     ]
    }
   ],
   "source": [
    "# Generate the explanations with length control, wait for 1 minute after every 15 calls\n",
    "client = genai.Client(api_key=GEMINI_API_KEY)\n",
    "short_config = types.GenerateContentConfig(max_output_tokens=200)\n",
    "\n",
    "responses = []\n",
    "for i, prompt in enumerate(generated_prompts):\n",
    "    try:\n",
    "        # Add 1 minute wait after every 15 calls\n",
    "        if i > 0 and i % 15 == 0:\n",
    "            print(f\"\\nWaiting for 1 minute after {i} calls...\")\n",
    "            time.sleep(60)  # Wait for 60 seconds\n",
    "            print(\"Resuming generation...\")\n",
    "            \n",
    "        response = client.models.generate_content(\n",
    "            model=\"gemini-2.0-flash\", config=short_config, contents=prompt\n",
    "        )\n",
    "        responses.append(response.text)\n",
    "        print(f\"Generated explanation for artwork {i + 1}/{len(generated_prompts)}\")\n",
    "        \n",
    "    except Exception as e:\n",
    "        print(f\"Error generating explanation for artwork {i + 1}: {e}\")\n",
    "        responses.append(f\"Error: {e}\")\n",
    "\n",
    "# concat prompts and responses and save to a csv file\n",
    "df_output = pd.concat([generated_prompts, pd.DataFrame({'response': responses})], axis=1)\n",
    "df_output.to_csv('results/output_length_control/prompts_and_generation_200.csv', index=False)"
   ]
  },
  {
   "cell_type": "code",
   "execution_count": 53,
   "metadata": {},
   "outputs": [
    {
     "data": {
      "text/plain": [
       "np.float64(137.26)"
      ]
     },
     "execution_count": 53,
     "metadata": {},
     "output_type": "execute_result"
    }
   ],
   "source": [
    "# calcualte the average number of words of the generation\n",
    "evaluation_results_df['response_length'] = evaluation_results_df['response'].apply(lambda x: len(x.split()))\n",
    "evaluation_results_df['response_length'].mean()\n"
   ]
  },
  {
   "cell_type": "code",
   "execution_count": 41,
   "metadata": {},
   "outputs": [
    {
     "name": "stdout",
     "output_type": "stream",
     "text": [
      "Evaluated artwork 1/50\n",
      "Evaluated artwork 2/50\n",
      "Evaluated artwork 3/50\n",
      "Evaluated artwork 4/50\n",
      "Evaluated artwork 5/50\n",
      "Error evaluating artwork 6: 429 RESOURCE_EXHAUSTED. {'error': {'code': 429, 'message': 'You exceeded your current quota, please check your plan and billing details. For more information on this error, head to: https://ai.google.dev/gemini-api/docs/rate-limits.', 'status': 'RESOURCE_EXHAUSTED', 'details': [{'@type': 'type.googleapis.com/google.rpc.QuotaFailure', 'violations': [{'quotaMetric': 'generativelanguage.googleapis.com/generate_content_free_tier_requests', 'quotaId': 'GenerateRequestsPerMinutePerProjectPerModel-FreeTier', 'quotaDimensions': {'location': 'global', 'model': 'gemini-2.0-flash'}, 'quotaValue': '15'}]}, {'@type': 'type.googleapis.com/google.rpc.Help', 'links': [{'description': 'Learn more about Gemini API quotas', 'url': 'https://ai.google.dev/gemini-api/docs/rate-limits'}]}, {'@type': 'type.googleapis.com/google.rpc.RetryInfo', 'retryDelay': '52s'}]}}\n",
      "Error evaluating artwork 7: 429 RESOURCE_EXHAUSTED. {'error': {'code': 429, 'message': 'You exceeded your current quota, please check your plan and billing details. For more information on this error, head to: https://ai.google.dev/gemini-api/docs/rate-limits.', 'status': 'RESOURCE_EXHAUSTED', 'details': [{'@type': 'type.googleapis.com/google.rpc.QuotaFailure', 'violations': [{'quotaMetric': 'generativelanguage.googleapis.com/generate_content_free_tier_requests', 'quotaId': 'GenerateRequestsPerMinutePerProjectPerModel-FreeTier', 'quotaDimensions': {'location': 'global', 'model': 'gemini-2.0-flash'}, 'quotaValue': '15'}]}, {'@type': 'type.googleapis.com/google.rpc.Help', 'links': [{'description': 'Learn more about Gemini API quotas', 'url': 'https://ai.google.dev/gemini-api/docs/rate-limits'}]}, {'@type': 'type.googleapis.com/google.rpc.RetryInfo', 'retryDelay': '52s'}]}}\n",
      "Error evaluating artwork 8: 429 RESOURCE_EXHAUSTED. {'error': {'code': 429, 'message': 'You exceeded your current quota, please check your plan and billing details. For more information on this error, head to: https://ai.google.dev/gemini-api/docs/rate-limits.', 'status': 'RESOURCE_EXHAUSTED', 'details': [{'@type': 'type.googleapis.com/google.rpc.QuotaFailure', 'violations': [{'quotaMetric': 'generativelanguage.googleapis.com/generate_content_free_tier_requests', 'quotaId': 'GenerateRequestsPerMinutePerProjectPerModel-FreeTier', 'quotaDimensions': {'location': 'global', 'model': 'gemini-2.0-flash'}, 'quotaValue': '15'}]}, {'@type': 'type.googleapis.com/google.rpc.Help', 'links': [{'description': 'Learn more about Gemini API quotas', 'url': 'https://ai.google.dev/gemini-api/docs/rate-limits'}]}, {'@type': 'type.googleapis.com/google.rpc.RetryInfo', 'retryDelay': '52s'}]}}\n",
      "\n",
      "Waiting for 1 minute after 8 calls...\n",
      "Resuming evaluation...\n",
      "Evaluated artwork 9/50\n",
      "Evaluated artwork 10/50\n",
      "Evaluated artwork 11/50\n",
      "Evaluated artwork 12/50\n",
      "Evaluated artwork 13/50\n",
      "Evaluated artwork 14/50\n",
      "Evaluated artwork 15/50\n",
      "Evaluated artwork 16/50\n",
      "\n",
      "Waiting for 1 minute after 16 calls...\n",
      "Resuming evaluation...\n",
      "Evaluated artwork 17/50\n",
      "Evaluated artwork 18/50\n",
      "Evaluated artwork 19/50\n",
      "Evaluated artwork 20/50\n",
      "Evaluated artwork 21/50\n",
      "Evaluated artwork 22/50\n",
      "Evaluated artwork 23/50\n",
      "Evaluated artwork 24/50\n",
      "\n",
      "Waiting for 1 minute after 24 calls...\n",
      "Resuming evaluation...\n",
      "Evaluated artwork 25/50\n",
      "Evaluated artwork 26/50\n",
      "Evaluated artwork 27/50\n",
      "Evaluated artwork 28/50\n",
      "Evaluated artwork 29/50\n",
      "Evaluated artwork 30/50\n",
      "Evaluated artwork 31/50\n",
      "Evaluated artwork 32/50\n",
      "\n",
      "Waiting for 1 minute after 32 calls...\n",
      "Resuming evaluation...\n",
      "Evaluated artwork 33/50\n",
      "Evaluated artwork 34/50\n",
      "Evaluated artwork 35/50\n",
      "Evaluated artwork 36/50\n",
      "Evaluated artwork 37/50\n",
      "Evaluated artwork 38/50\n",
      "Evaluated artwork 39/50\n",
      "Evaluated artwork 40/50\n",
      "\n",
      "Waiting for 1 minute after 40 calls...\n",
      "Resuming evaluation...\n",
      "Evaluated artwork 41/50\n",
      "Evaluated artwork 42/50\n",
      "Evaluated artwork 43/50\n",
      "Evaluated artwork 44/50\n",
      "Evaluated artwork 45/50\n",
      "Evaluated artwork 46/50\n",
      "Evaluated artwork 47/50\n",
      "Evaluated artwork 48/50\n",
      "\n",
      "Waiting for 1 minute after 48 calls...\n",
      "Resuming evaluation...\n",
      "Evaluated artwork 49/50\n",
      "Evaluated artwork 50/50\n",
      "\n",
      "Results saved to: results/output_length_control/evaluation_results_200.csv\n"
     ]
    }
   ],
   "source": [
    "# evaluate the generated explanations with length control\n",
    "evaluation_results = []\n",
    "for i, (prompt, response) in enumerate(zip(df_output['prompt'], df_output['response'])):\n",
    "    try:\n",
    "        # Add 1 minute wait after every 8 calls\n",
    "        if i > 0 and i % 8 == 0:\n",
    "            print(f\"\\nWaiting for 1 minute after {i} calls...\")\n",
    "            time.sleep(60)  # Wait for 60 seconds\n",
    "            print(\"Resuming evaluation...\")\n",
    "            \n",
    "        text_eval, struct_eval = eval_generation(prompt=prompt, ai_response=response)\n",
    "        evaluation_results.append({\n",
    "            'prompt': prompt,\n",
    "            'response': response,\n",
    "            'rating': struct_eval,\n",
    "            'evaluation_text': text_eval\n",
    "        })\n",
    "        print(f\"Evaluated artwork {i + 1}/{len(df_output)}\")\n",
    "        \n",
    "    except Exception as e:\n",
    "        print(f\"Error evaluating artwork {i + 1}: {e}\")\n",
    "        evaluation_results.append({\n",
    "            'prompt': prompt,\n",
    "            'response': response,\n",
    "            'rating': None,\n",
    "            'evaluation_text': f\"Error: {e}\"\n",
    "        })\n",
    "\n",
    "# Convert results to DataFrame\n",
    "evaluation_results_df = pd.DataFrame(evaluation_results)\n",
    "\n",
    "# Save results to CSV\n",
    "csv_filename = 'results/output_length_control/evaluation_results_200.csv'\n",
    "evaluation_results_df.to_csv(csv_filename, index=False)\n",
    "print(f\"\\nResults saved to: {csv_filename}\")"
   ]
  },
  {
   "cell_type": "markdown",
   "metadata": {},
   "source": [
    "**Perform Analysis on Evaluation Results**\n"
   ]
  },
  {
   "cell_type": "code",
   "execution_count": 42,
   "metadata": {},
   "outputs": [],
   "source": [
    "# read the evaluation results\n",
    "evaluation_results_df = pd.read_csv('results/output_length_control/evaluation_results_200.csv')"
   ]
  },
  {
   "cell_type": "code",
   "execution_count": 44,
   "metadata": {},
   "outputs": [
    {
     "data": {
      "text/plain": [
       "np.int64(3)"
      ]
     },
     "execution_count": 44,
     "metadata": {},
     "output_type": "execute_result"
    }
   ],
   "source": [
    "# check if there are any rows with rating None, this may due to the rate limit of the API\n",
    "evaluation_results_df['rating'].isnull().sum()"
   ]
  },
  {
   "cell_type": "code",
   "execution_count": 45,
   "metadata": {},
   "outputs": [
    {
     "data": {
      "text/plain": [
       "rating\n",
       "SummaryRating.GOOD         32\n",
       "SummaryRating.OK           11\n",
       "SummaryRating.BAD           3\n",
       "SummaryRating.VERY_GOOD     1\n",
       "Name: count, dtype: int64"
      ]
     },
     "execution_count": 45,
     "metadata": {},
     "output_type": "execute_result"
    }
   ],
   "source": [
    "# check the evaluation results rating distribution\n",
    "evaluation_results_df['rating'].value_counts()\n"
   ]
  },
  {
   "cell_type": "markdown",
   "metadata": {},
   "source": [
    "**Observations:**\n",
    "\n",
    "Comparing our length-controlled experiment (150 words) against the baseline reveals interesting trade-offs in our art gallery explanation system:\n",
    "\n",
    "The baseline generations (~223 words) achieved 31 GOOD and 19 VERY_GOOD ratings, with no lower ratings. Our length-controlled experiment shifted dramatically: while maintaining similar GOOD ratings (32), VERY_GOOD ratings dropped to just 1, with 11 OK and 3 BAD ratings appearing.\n",
    "\n",
    "This suggests our 150-word limit might be too aggressive - while it creates more concise introductions, it compromises the depth and quality of explanations. Some artworks likely require more space to convey their significance effectively."
   ]
  },
  {
   "cell_type": "markdown",
   "metadata": {},
   "source": [
    "Failure case analysis: Dive into the 'BAD' generations and see what went wrong."
   ]
  },
  {
   "cell_type": "code",
   "execution_count": 48,
   "metadata": {},
   "outputs": [
    {
     "name": "stdout",
     "output_type": "stream",
     "text": [
      "(3, 2)\n"
     ]
    },
    {
     "data": {
      "text/html": [
       "<div>\n",
       "<style scoped>\n",
       "    .dataframe tbody tr th:only-of-type {\n",
       "        vertical-align: middle;\n",
       "    }\n",
       "\n",
       "    .dataframe tbody tr th {\n",
       "        vertical-align: top;\n",
       "    }\n",
       "\n",
       "    .dataframe thead th {\n",
       "        text-align: right;\n",
       "    }\n",
       "</style>\n",
       "<table border=\"1\" class=\"dataframe\">\n",
       "  <thead>\n",
       "    <tr style=\"text-align: right;\">\n",
       "      <th></th>\n",
       "      <th>response</th>\n",
       "      <th>evaluation_text</th>\n",
       "    </tr>\n",
       "  </thead>\n",
       "  <tbody>\n",
       "    <tr>\n",
       "      <th>25</th>\n",
       "      <td>\"Welcome! Let's take a closer look at this fascinating print.\\n\\nThis is an etching titled \"Entry of the Prince of Saxony with his Wife into Dresden on September 2, 1719, after their Marriage in Vienna.\" It was created sometime between 1700 and 1755. We can see from the title and the tags – horses, soldiers, men, and carriages – that it depicts a grand procession. Specifically, it shows a ceremonial entrance into Dresden, celebrating a royal marriage.\\n\\nThe artwork is a collaboration. The print was likely drawn by Adolf van der Laan (1684-1755), a Dutch artist, and Pieter Schenck II, who was born in 1693, served as the publisher. Van der Laan was from Amsterdam, which was a bustling hub of artistic production at the time.\\n\\nThe period it represents, the early 18th century, was a time of</td>\n",
       "      <td>## Evaluation\\n\\n### STEP 1: Understand the Prompt and Identify the Artwork\\nThe prompt provides detailed information about a print titled \"Entry of the Prince of Saxony with his Wife into Dresden on September 2, 1719, after their Marriage in Vienna,\" created around 1700-1755 by Adolf van der Laan and published by Pieter Schenck II. The prompt requests a concise explanation focusing on the artist's background, subject matter, historical significance, materials/techniques, size, and location.\\n\\n### STEP 2: Read the AI-Generated Response\\nThe AI response provides a starting explanation of the artwork, including its title, subject matter, and the artists involved. It also touches on the historical context and the artistic background of one of the artists. However, the response is incomplete and abruptly ends mid-sentence.\\n\\n### STEP 3: Assess the Response Against Each Criterion\\n\\n*   **Instruction Following:** The AI attempts to follow the instructions, addressing the artist's background, subject matter, and historical period, but it doesn't get through the materials/techniques, size, and location, likely due to the incomplete generation.\\n*   **Accuracy:** The information provided is accurate based on the data in the prompt.\\n*   **Artwork Focus/Relevance:** The explanation is directly relevant to the specified artwork.\\n*   **Analytical Depth:** The response starts to provide some historical context but doesn't delve deeply into the artwork's meaning or artistic techniques.\\n*   **Clarity and Cohesion:** The initial part of the explanation is clear and cohesive, but the abrupt ending disrupts the flow.\\n*   **Contextualization:** The response begins to contextualize the artwork by mentioning Amsterdam's artistic importance but doesn't fully develop this aspect.\\n\\n### STEP 4: Determine the Overall Quality and Assign a Rating\\n\\nDue to the response being incomplete and abruptly cut off, the overall quality is significantly diminished. While the initial part of the response is good and addresses several aspects of the prompt, the lack of a complete explanation and the omission of key details mentioned in the prompt (dimensions and repository) leads to a low rating.\\n\\n**Rating: 2 (Bad)**\\n\\n**Explanation:**\\n\\nThe response contains a significant issue as it is incomplete. It fails to fully address the instructions provided in the prompt and lacks essential information, such as the artwork's dimensions and repository.\\n</td>\n",
       "    </tr>\n",
       "    <tr>\n",
       "      <th>30</th>\n",
       "      <td>Good morning! Welcome to the Drawings and Prints section. Today, I'd like to draw your attention to this fascinating piece entitled \"Design for a Sofa Back Cover (?) with an Ornamental Frame Containing a Large Horizontal Garland of Flowers and Leaves with Musical Instruments and a Vase, Decorated with Acanthus Leaves and Two Fleurs de Lys.\"\\n\\nUnfortunately, the artist is currently listed as \"Anonymous, French, 19th century,\" so we don't have a specific name to associate with this work. We know they were working in France sometime between 1800 and 1900, designing objects such as this potential sofa back cover.\\n\\nThe object itself is dated between 1870 and 1900, giving us a window into the late 19th century, a period known for its opulent interiors and decorative arts. The title gives us a good idea of the subject matter. It’s a design, likely for a textile, meant to adorn</td>\n",
       "      <td>## Evaluation\\n\\n### STEP 1: Understand the Prompt\\nThe prompt requests an explanation of an artwork based on provided metadata. The artwork is a design drawing for a sofa back cover, created by an anonymous French artist in the late 19th century. The response should cover the artist's background, subject matter, historical significance, materials/techniques, size, and location.\\n\\n### STEP 2: Read the AI-Generated Response\\nThe AI provides an initial welcome and identifies the artwork. It notes the anonymous artist and the potential purpose of the design. The response is cut off at the end of the second paragraph.\\n\\n### STEP 3: Assess the Response\\n*   **Instruction Following:** The response starts well, addressing the provided details. It successfully mentions the artist's anonymity, nationality, and date range, as well as the title and potential subject matter. However, because the response is cut off, it doesn't fully address all the instructions. It does not include the material and techniques used, its size or its location.\\n*   **Accuracy:** The information provided is accurate based on the prompt.\\n*   **Artwork Focus/Relevance:** The explanation focuses on the identified artwork.\\n*   **Analytical Depth:** The response starts to offer some context regarding the late 19th century and its decorative arts, but it's cut short.\\n*   **Clarity and Cohesion:** The explanation is clear and well-organized so far.\\n*   **Contextualization:** The response begins to contextualize the artwork within its historical period.\\n\\n### STEP 4: Determine the Overall Quality and Assign a Rating\\nDue to the incomplete nature of the response, the rating is capped. While it correctly identifies the artwork and begins to address the instructions, it fails to deliver a complete explanation as requested.\\n\\n**Rating: 2 (Bad)**\\n\\n**Explanation:** The response is incomplete and fails to fully address the instructions due to being cut off. While the information presented is accurate and relevant, the lack of a complete explanation warrants a \"Bad\" rating.\\n</td>\n",
       "    </tr>\n",
       "    <tr>\n",
       "      <th>48</th>\n",
       "      <td>Welcome! Let me draw your attention to this fascinating print titled \"Speculum Romanae Magnificentiae: Circus Flaminius.\"\\n\\nThis engraving, created in 1553, gives us a glimpse into the grandeur of ancient Rome. It depicts the Circus Flaminius, a significant architectural landmark of the time, dedicated to public games and events. You can see that it's tagged with both \"Architecture\", \"Circus\" and \"Rome\", giving a good sense of what to expect from it.\\n\\nThe print is a collaborative effort. Nicolas Beatrizet, a French artist born in Lunéville in 1515, and active in Rome, is credited as an artist on this piece. His work is joined by Pirro Ligorio, an Italian artist from Naples, who also contributed to the work. Finally, Michele Tramezzino, an Italian publisher active in Venice and Rome, played a vital role in making this print available to a wider audience. This collaboration highlights the</td>\n",
       "      <td>## Evaluation\\n\\n### STEP 1: Understand the Prompt\\nThe prompt requests an explanation of the print \"Speculum Romanae Magnificentiae: Circus Flaminius,\" providing specific details about the artwork, artists, and its historical context. The AI is instructed to act as a tour guide and focus on artist background, subject matter, historical period, materials/techniques, size, and location.\\n\\n### STEP 2: Read the AI-Generated Response\\nThe AI-generated response provides an introduction to the print, identifies the Circus Flaminius as the subject, and mentions the artists involved. It also notes the medium and collaborative nature of the print. However, the response is incomplete as it cuts off mid-sentence.\\n\\n### STEP 3: Assess the Response Against Each Criterion\\n\\n*   **Instruction Following:** Partially follows instructions. It starts addressing the requested points but doesn't complete them due to the truncation.\\n*   **Accuracy:** The information provided is accurate based on the provided details.\\n*   **Artwork Focus/Relevance:** The explanation is relevant to the artwork identified in the prompt.\\n*   **Analytical Depth:** Lacks analytical depth due to the incomplete nature of the response.\\n*   **Clarity and Cohesion:** The beginning of the response is clear and cohesive, but it abruptly ends.\\n*   **Contextualization:** Touches upon contextualization by mentioning the grandeur of ancient Rome but doesn't fully develop this.\\n\\n### STEP 4: Determine the Overall Quality and Assign a Rating\\n\\nGiven that the response is incomplete, it's difficult to give it a high rating. While the information presented is accurate and relevant, the lack of completion significantly hinders its overall quality. I will rate it a 2 (Bad) due to the significant issue of being incomplete. Had the response not been cut off, it would have likely scored higher.\\n</td>\n",
       "    </tr>\n",
       "  </tbody>\n",
       "</table>\n",
       "</div>"
      ],
      "text/plain": [
       "                                                                                                                                                                                                                                                                                                                                                                                                                                                                                                                                                                                                                                                                                                                                                                                                                                                                                                                                  response  \\\n",
       "25                                                                                                         \"Welcome! Let's take a closer look at this fascinating print.\\n\\nThis is an etching titled \"Entry of the Prince of Saxony with his Wife into Dresden on September 2, 1719, after their Marriage in Vienna.\" It was created sometime between 1700 and 1755. We can see from the title and the tags – horses, soldiers, men, and carriages – that it depicts a grand procession. Specifically, it shows a ceremonial entrance into Dresden, celebrating a royal marriage.\\n\\nThe artwork is a collaboration. The print was likely drawn by Adolf van der Laan (1684-1755), a Dutch artist, and Pieter Schenck II, who was born in 1693, served as the publisher. Van der Laan was from Amsterdam, which was a bustling hub of artistic production at the time.\\n\\nThe period it represents, the early 18th century, was a time of   \n",
       "30                   Good morning! Welcome to the Drawings and Prints section. Today, I'd like to draw your attention to this fascinating piece entitled \"Design for a Sofa Back Cover (?) with an Ornamental Frame Containing a Large Horizontal Garland of Flowers and Leaves with Musical Instruments and a Vase, Decorated with Acanthus Leaves and Two Fleurs de Lys.\"\\n\\nUnfortunately, the artist is currently listed as \"Anonymous, French, 19th century,\" so we don't have a specific name to associate with this work. We know they were working in France sometime between 1800 and 1900, designing objects such as this potential sofa back cover.\\n\\nThe object itself is dated between 1870 and 1900, giving us a window into the late 19th century, a period known for its opulent interiors and decorative arts. The title gives us a good idea of the subject matter. It’s a design, likely for a textile, meant to adorn   \n",
       "48  Welcome! Let me draw your attention to this fascinating print titled \"Speculum Romanae Magnificentiae: Circus Flaminius.\"\\n\\nThis engraving, created in 1553, gives us a glimpse into the grandeur of ancient Rome. It depicts the Circus Flaminius, a significant architectural landmark of the time, dedicated to public games and events. You can see that it's tagged with both \"Architecture\", \"Circus\" and \"Rome\", giving a good sense of what to expect from it.\\n\\nThe print is a collaborative effort. Nicolas Beatrizet, a French artist born in Lunéville in 1515, and active in Rome, is credited as an artist on this piece. His work is joined by Pirro Ligorio, an Italian artist from Naples, who also contributed to the work. Finally, Michele Tramezzino, an Italian publisher active in Venice and Rome, played a vital role in making this print available to a wider audience. This collaboration highlights the   \n",
       "\n",
       "                                                                                                                                                                                                                                                                                                                                                                                                                                                                                                                                                                                                                                                                                                                                                                                                                                                                                                                                                                                                                                                                                                                                                                                                                                                                                                                                                                                                                                                                                                                                                                                                                                                                                                                                                                                                                                                                                                                                                                                                                                                                                                                                                                                                                                                                                                                                                                                                                                                                                                                                                   evaluation_text  \n",
       "25  ## Evaluation\\n\\n### STEP 1: Understand the Prompt and Identify the Artwork\\nThe prompt provides detailed information about a print titled \"Entry of the Prince of Saxony with his Wife into Dresden on September 2, 1719, after their Marriage in Vienna,\" created around 1700-1755 by Adolf van der Laan and published by Pieter Schenck II. The prompt requests a concise explanation focusing on the artist's background, subject matter, historical significance, materials/techniques, size, and location.\\n\\n### STEP 2: Read the AI-Generated Response\\nThe AI response provides a starting explanation of the artwork, including its title, subject matter, and the artists involved. It also touches on the historical context and the artistic background of one of the artists. However, the response is incomplete and abruptly ends mid-sentence.\\n\\n### STEP 3: Assess the Response Against Each Criterion\\n\\n*   **Instruction Following:** The AI attempts to follow the instructions, addressing the artist's background, subject matter, and historical period, but it doesn't get through the materials/techniques, size, and location, likely due to the incomplete generation.\\n*   **Accuracy:** The information provided is accurate based on the data in the prompt.\\n*   **Artwork Focus/Relevance:** The explanation is directly relevant to the specified artwork.\\n*   **Analytical Depth:** The response starts to provide some historical context but doesn't delve deeply into the artwork's meaning or artistic techniques.\\n*   **Clarity and Cohesion:** The initial part of the explanation is clear and cohesive, but the abrupt ending disrupts the flow.\\n*   **Contextualization:** The response begins to contextualize the artwork by mentioning Amsterdam's artistic importance but doesn't fully develop this aspect.\\n\\n### STEP 4: Determine the Overall Quality and Assign a Rating\\n\\nDue to the response being incomplete and abruptly cut off, the overall quality is significantly diminished. While the initial part of the response is good and addresses several aspects of the prompt, the lack of a complete explanation and the omission of key details mentioned in the prompt (dimensions and repository) leads to a low rating.\\n\\n**Rating: 2 (Bad)**\\n\\n**Explanation:**\\n\\nThe response contains a significant issue as it is incomplete. It fails to fully address the instructions provided in the prompt and lacks essential information, such as the artwork's dimensions and repository.\\n  \n",
       "30                                                                                                                                                                                                                                                                                                                                                                                                       ## Evaluation\\n\\n### STEP 1: Understand the Prompt\\nThe prompt requests an explanation of an artwork based on provided metadata. The artwork is a design drawing for a sofa back cover, created by an anonymous French artist in the late 19th century. The response should cover the artist's background, subject matter, historical significance, materials/techniques, size, and location.\\n\\n### STEP 2: Read the AI-Generated Response\\nThe AI provides an initial welcome and identifies the artwork. It notes the anonymous artist and the potential purpose of the design. The response is cut off at the end of the second paragraph.\\n\\n### STEP 3: Assess the Response\\n*   **Instruction Following:** The response starts well, addressing the provided details. It successfully mentions the artist's anonymity, nationality, and date range, as well as the title and potential subject matter. However, because the response is cut off, it doesn't fully address all the instructions. It does not include the material and techniques used, its size or its location.\\n*   **Accuracy:** The information provided is accurate based on the prompt.\\n*   **Artwork Focus/Relevance:** The explanation focuses on the identified artwork.\\n*   **Analytical Depth:** The response starts to offer some context regarding the late 19th century and its decorative arts, but it's cut short.\\n*   **Clarity and Cohesion:** The explanation is clear and well-organized so far.\\n*   **Contextualization:** The response begins to contextualize the artwork within its historical period.\\n\\n### STEP 4: Determine the Overall Quality and Assign a Rating\\nDue to the incomplete nature of the response, the rating is capped. While it correctly identifies the artwork and begins to address the instructions, it fails to deliver a complete explanation as requested.\\n\\n**Rating: 2 (Bad)**\\n\\n**Explanation:** The response is incomplete and fails to fully address the instructions due to being cut off. While the information presented is accurate and relevant, the lack of a complete explanation warrants a \"Bad\" rating.\\n  \n",
       "48                                                                                                                                                                                                                                                                                                                                                                                                                                                                                                                                                                                                               ## Evaluation\\n\\n### STEP 1: Understand the Prompt\\nThe prompt requests an explanation of the print \"Speculum Romanae Magnificentiae: Circus Flaminius,\" providing specific details about the artwork, artists, and its historical context. The AI is instructed to act as a tour guide and focus on artist background, subject matter, historical period, materials/techniques, size, and location.\\n\\n### STEP 2: Read the AI-Generated Response\\nThe AI-generated response provides an introduction to the print, identifies the Circus Flaminius as the subject, and mentions the artists involved. It also notes the medium and collaborative nature of the print. However, the response is incomplete as it cuts off mid-sentence.\\n\\n### STEP 3: Assess the Response Against Each Criterion\\n\\n*   **Instruction Following:** Partially follows instructions. It starts addressing the requested points but doesn't complete them due to the truncation.\\n*   **Accuracy:** The information provided is accurate based on the provided details.\\n*   **Artwork Focus/Relevance:** The explanation is relevant to the artwork identified in the prompt.\\n*   **Analytical Depth:** Lacks analytical depth due to the incomplete nature of the response.\\n*   **Clarity and Cohesion:** The beginning of the response is clear and cohesive, but it abruptly ends.\\n*   **Contextualization:** Touches upon contextualization by mentioning the grandeur of ancient Rome but doesn't fully develop this.\\n\\n### STEP 4: Determine the Overall Quality and Assign a Rating\\n\\nGiven that the response is incomplete, it's difficult to give it a high rating. While the information presented is accurate and relevant, the lack of completion significantly hinders its overall quality. I will rate it a 2 (Bad) due to the significant issue of being incomplete. Had the response not been cut off, it would have likely scored higher.\\n  "
      ]
     },
     "execution_count": 48,
     "metadata": {},
     "output_type": "execute_result"
    }
   ],
   "source": [
    "# let's print out the row where rating is bad\n",
    "bad_generations = evaluation_results_df[evaluation_results_df['rating'] == 'SummaryRating.BAD'][['response', 'evaluation_text']]\n",
    "print(bad_generations.shape)\n",
    "bad_generations.head()"
   ]
  },
  {
   "cell_type": "markdown",
   "metadata": {},
   "source": [
    "Use AI to perform anlysis on the bad generations and identify common issues."
   ]
  },
  {
   "cell_type": "code",
   "execution_count": 49,
   "metadata": {},
   "outputs": [],
   "source": [
    "ANALYSIS_PROMPT = \"\"\"\\\n",
    "# Instruction\n",
    "You are an expert analyst tasked with identifying and explaining why an AI-generated artwork explanation received a poor rating. Your task is to analyze both the AI's response and the evaluator's feedback to clearly summarize the key issues that led to the low rating.\n",
    "\n",
    "Please provide:\n",
    "1. A concise list of the main problems identified in the response\n",
    "2. Specific examples of these issues from the response\n",
    "3. A brief explanation of how these issues impacted the overall quality\n",
    "\n",
    "# Input\n",
    "## AI Response:\n",
    "{response}\n",
    "\n",
    "## Evaluator's Feedback:\n",
    "{evaluation_text}\n",
    "\n",
    "# Expected Output Format\n",
    "Please provide your analysis in the following format:\n",
    "\n",
    "SUMMARY OF ISSUES:\n",
    "- [List key problems identified]\n",
    "\n",
    "SPECIFIC EXAMPLES:\n",
    "- [Cite relevant examples from the response]\n",
    "\n",
    "IMPACT:\n",
    "[Brief explanation of how these issues affected the response quality]\n",
    "\"\"\""
   ]
  },
  {
   "cell_type": "code",
   "execution_count": 50,
   "metadata": {},
   "outputs": [
    {
     "name": "stdout",
     "output_type": "stream",
     "text": [
      "Analyzed bad response 1/3\n",
      "Analyzed bad response 2/3\n",
      "Analyzed bad response 3/3\n"
     ]
    }
   ],
   "source": [
    "client = genai.Client(api_key=GEMINI_API_KEY)\n",
    "\n",
    "analyses = []\n",
    "for i, (response, evaluation_text) in enumerate(zip(bad_generations['response'], bad_generations['evaluation_text'])):\n",
    "    try:\n",
    "        # Add 1 minute wait after every 10 calls\n",
    "        if i > 0 and i % 10 == 0:\n",
    "            print(f\"\\nWaiting for 1 minute after {i} calls...\")\n",
    "            time.sleep(60)  # Wait for 60 seconds\n",
    "            print(\"Resuming analysis...\")\n",
    "            \n",
    "        chat = client.chats.create(model='gemini-2.0-flash')\n",
    "        analysis = chat.send_message(\n",
    "            message=ANALYSIS_PROMPT.format(\n",
    "                response=response,\n",
    "                evaluation_text=evaluation_text\n",
    "            )\n",
    "        )\n",
    "        analyses.append(analysis.text)\n",
    "        print(f\"Analyzed bad response {i + 1}/{len(bad_generations)}\")\n",
    "        \n",
    "    except Exception as e:\n",
    "        print(f\"Error analyzing response {i + 1}: {e}\")\n",
    "        analyses.append(f\"Error: {e}\")\n",
    "\n",
    "# Add analyses to the DataFrame and save to csv\n",
    "bad_generations['analysis'] = analyses\n",
    "bad_generations.to_csv('results/output_length_control/bad_generations_analysis.csv', index=False)"
   ]
  },
  {
   "cell_type": "code",
   "execution_count": 52,
   "metadata": {},
   "outputs": [
    {
     "data": {
      "text/html": [
       "<div>\n",
       "<style scoped>\n",
       "    .dataframe tbody tr th:only-of-type {\n",
       "        vertical-align: middle;\n",
       "    }\n",
       "\n",
       "    .dataframe tbody tr th {\n",
       "        vertical-align: top;\n",
       "    }\n",
       "\n",
       "    .dataframe thead th {\n",
       "        text-align: right;\n",
       "    }\n",
       "</style>\n",
       "<table border=\"1\" class=\"dataframe\">\n",
       "  <thead>\n",
       "    <tr style=\"text-align: right;\">\n",
       "      <th></th>\n",
       "      <th>response</th>\n",
       "      <th>analysis</th>\n",
       "    </tr>\n",
       "  </thead>\n",
       "  <tbody>\n",
       "    <tr>\n",
       "      <th>25</th>\n",
       "      <td>\"Welcome! Let's take a closer look at this fascinating print.\\n\\nThis is an etching titled \"Entry of the Prince of Saxony with his Wife into Dresden on September 2, 1719, after their Marriage in Vienna.\" It was created sometime between 1700 and 1755. We can see from the title and the tags – horses, soldiers, men, and carriages – that it depicts a grand procession. Specifically, it shows a ceremonial entrance into Dresden, celebrating a royal marriage.\\n\\nThe artwork is a collaboration. The print was likely drawn by Adolf van der Laan (1684-1755), a Dutch artist, and Pieter Schenck II, who was born in 1693, served as the publisher. Van der Laan was from Amsterdam, which was a bustling hub of artistic production at the time.\\n\\nThe period it represents, the early 18th century, was a time of</td>\n",
       "      <td>SUMMARY OF ISSUES:\\n- Incomplete response; the text abruptly ends mid-sentence.\\n- Fails to address all aspects of the prompt, specifically omitting information about materials/techniques, size, and location of the artwork.\\n- Lacks analytical depth beyond stating basic facts.\\n\\nSPECIFIC EXAMPLES:\\n- \"The period it represents, the early 18th century, was a time of\" - Abrupt ending.\\n- The response mentions the artists' background and the subject matter, but does not discuss the materials and techniques used in creating the etching, the size of the print, or where it is currently located (repository).\\n\\nIMPACT:\\nThe incomplete response severely limits its usefulness and comprehensiveness. The abrupt ending leaves the user without a complete understanding of the artwork. Furthermore, the omission of key information, as specified in the prompt, renders the response unsatisfactory. This significantly lowers the overall quality and leads to a \"Bad\" rating.\\n</td>\n",
       "    </tr>\n",
       "    <tr>\n",
       "      <th>30</th>\n",
       "      <td>Good morning! Welcome to the Drawings and Prints section. Today, I'd like to draw your attention to this fascinating piece entitled \"Design for a Sofa Back Cover (?) with an Ornamental Frame Containing a Large Horizontal Garland of Flowers and Leaves with Musical Instruments and a Vase, Decorated with Acanthus Leaves and Two Fleurs de Lys.\"\\n\\nUnfortunately, the artist is currently listed as \"Anonymous, French, 19th century,\" so we don't have a specific name to associate with this work. We know they were working in France sometime between 1800 and 1900, designing objects such as this potential sofa back cover.\\n\\nThe object itself is dated between 1870 and 1900, giving us a window into the late 19th century, a period known for its opulent interiors and decorative arts. The title gives us a good idea of the subject matter. It’s a design, likely for a textile, meant to adorn</td>\n",
       "      <td>SUMMARY OF ISSUES:\\n- Incomplete response.\\n- Fails to address all aspects of the prompt (materials/techniques, size, location).\\n- Lacks depth in analysis and contextualization due to abrupt ending.\\n\\nSPECIFIC EXAMPLES:\\n- \"The title gives us a good idea of the subject matter. It’s a design, likely for a textile, meant to adorn\" - This sentence is unfinished, indicating the response was cut off.\\n- The response mentions the \"anonymous, French, 19th century\" artist but does not explore potential reasons for anonymity within the art world during that period. It also fails to mention where the piece is currently located, the materials used, or the techniques employed to create it.\\n- The reference to \"opulent interiors and decorative arts\" is a good starting point for historical context, but it's not developed further because the response ends prematurely.\\n\\nIMPACT:\\nThe incomplete response significantly limits the overall quality. The failure to address all aspects of the prompt, especially regarding materials, size, and location, results in a superficial analysis. The lack of a complete explanation and deeper contextualization prevents the AI from demonstrating a thorough understanding of the artwork and its significance.\\n</td>\n",
       "    </tr>\n",
       "    <tr>\n",
       "      <th>48</th>\n",
       "      <td>Welcome! Let me draw your attention to this fascinating print titled \"Speculum Romanae Magnificentiae: Circus Flaminius.\"\\n\\nThis engraving, created in 1553, gives us a glimpse into the grandeur of ancient Rome. It depicts the Circus Flaminius, a significant architectural landmark of the time, dedicated to public games and events. You can see that it's tagged with both \"Architecture\", \"Circus\" and \"Rome\", giving a good sense of what to expect from it.\\n\\nThe print is a collaborative effort. Nicolas Beatrizet, a French artist born in Lunéville in 1515, and active in Rome, is credited as an artist on this piece. His work is joined by Pirro Ligorio, an Italian artist from Naples, who also contributed to the work. Finally, Michele Tramezzino, an Italian publisher active in Venice and Rome, played a vital role in making this print available to a wider audience. This collaboration highlights the</td>\n",
       "      <td>SUMMARY OF ISSUES:\\n- Incomplete response, cutting off mid-sentence.\\n- Lacks analytical depth due to incompleteness.\\n- Insufficient contextualization despite acknowledging the historical period.\\n\\nSPECIFIC EXAMPLES:\\n- \"This collaboration highlights the\" - sentence abruptly ends, leaving the explanation unfinished.\\n- While it mentions \"grandeur of ancient Rome,\" the response doesn't elaborate on the historical context or significance of the Circus Flaminius within that period.\\n\\nIMPACT:\\nThe incomplete nature of the response is the most significant factor leading to the low rating. It prevents the AI from fully addressing the prompt's requirements regarding artist background, subject matter, historical period, materials/techniques, size, and location. The lack of completion makes it difficult to assess the AI's analytical depth and contextualization abilities. Because the response ends abruptly, the user is left with an unfinished thought.\\n</td>\n",
       "    </tr>\n",
       "  </tbody>\n",
       "</table>\n",
       "</div>"
      ],
      "text/plain": [
       "                                                                                                                                                                                                                                                                                                                                                                                                                                                                                                                                                                                                                                                                                                                                                                                                                                                                                                                                  response  \\\n",
       "25                                                                                                         \"Welcome! Let's take a closer look at this fascinating print.\\n\\nThis is an etching titled \"Entry of the Prince of Saxony with his Wife into Dresden on September 2, 1719, after their Marriage in Vienna.\" It was created sometime between 1700 and 1755. We can see from the title and the tags – horses, soldiers, men, and carriages – that it depicts a grand procession. Specifically, it shows a ceremonial entrance into Dresden, celebrating a royal marriage.\\n\\nThe artwork is a collaboration. The print was likely drawn by Adolf van der Laan (1684-1755), a Dutch artist, and Pieter Schenck II, who was born in 1693, served as the publisher. Van der Laan was from Amsterdam, which was a bustling hub of artistic production at the time.\\n\\nThe period it represents, the early 18th century, was a time of   \n",
       "30                   Good morning! Welcome to the Drawings and Prints section. Today, I'd like to draw your attention to this fascinating piece entitled \"Design for a Sofa Back Cover (?) with an Ornamental Frame Containing a Large Horizontal Garland of Flowers and Leaves with Musical Instruments and a Vase, Decorated with Acanthus Leaves and Two Fleurs de Lys.\"\\n\\nUnfortunately, the artist is currently listed as \"Anonymous, French, 19th century,\" so we don't have a specific name to associate with this work. We know they were working in France sometime between 1800 and 1900, designing objects such as this potential sofa back cover.\\n\\nThe object itself is dated between 1870 and 1900, giving us a window into the late 19th century, a period known for its opulent interiors and decorative arts. The title gives us a good idea of the subject matter. It’s a design, likely for a textile, meant to adorn   \n",
       "48  Welcome! Let me draw your attention to this fascinating print titled \"Speculum Romanae Magnificentiae: Circus Flaminius.\"\\n\\nThis engraving, created in 1553, gives us a glimpse into the grandeur of ancient Rome. It depicts the Circus Flaminius, a significant architectural landmark of the time, dedicated to public games and events. You can see that it's tagged with both \"Architecture\", \"Circus\" and \"Rome\", giving a good sense of what to expect from it.\\n\\nThe print is a collaborative effort. Nicolas Beatrizet, a French artist born in Lunéville in 1515, and active in Rome, is credited as an artist on this piece. His work is joined by Pirro Ligorio, an Italian artist from Naples, who also contributed to the work. Finally, Michele Tramezzino, an Italian publisher active in Venice and Rome, played a vital role in making this print available to a wider audience. This collaboration highlights the   \n",
       "\n",
       "                                                                                                                                                                                                                                                                                                                                                                                                                                                                                                                                                                                                                                                                                                                                                                                                                                                                                                                                                                                                                                                                                                                                                                                                                                                                                         analysis  \n",
       "25                                                                                                                                                                                                                                                                                      SUMMARY OF ISSUES:\\n- Incomplete response; the text abruptly ends mid-sentence.\\n- Fails to address all aspects of the prompt, specifically omitting information about materials/techniques, size, and location of the artwork.\\n- Lacks analytical depth beyond stating basic facts.\\n\\nSPECIFIC EXAMPLES:\\n- \"The period it represents, the early 18th century, was a time of\" - Abrupt ending.\\n- The response mentions the artists' background and the subject matter, but does not discuss the materials and techniques used in creating the etching, the size of the print, or where it is currently located (repository).\\n\\nIMPACT:\\nThe incomplete response severely limits its usefulness and comprehensiveness. The abrupt ending leaves the user without a complete understanding of the artwork. Furthermore, the omission of key information, as specified in the prompt, renders the response unsatisfactory. This significantly lowers the overall quality and leads to a \"Bad\" rating.\\n  \n",
       "30  SUMMARY OF ISSUES:\\n- Incomplete response.\\n- Fails to address all aspects of the prompt (materials/techniques, size, location).\\n- Lacks depth in analysis and contextualization due to abrupt ending.\\n\\nSPECIFIC EXAMPLES:\\n- \"The title gives us a good idea of the subject matter. It’s a design, likely for a textile, meant to adorn\" - This sentence is unfinished, indicating the response was cut off.\\n- The response mentions the \"anonymous, French, 19th century\" artist but does not explore potential reasons for anonymity within the art world during that period. It also fails to mention where the piece is currently located, the materials used, or the techniques employed to create it.\\n- The reference to \"opulent interiors and decorative arts\" is a good starting point for historical context, but it's not developed further because the response ends prematurely.\\n\\nIMPACT:\\nThe incomplete response significantly limits the overall quality. The failure to address all aspects of the prompt, especially regarding materials, size, and location, results in a superficial analysis. The lack of a complete explanation and deeper contextualization prevents the AI from demonstrating a thorough understanding of the artwork and its significance.\\n  \n",
       "48                                                                                                                                                                                                                                                                                               SUMMARY OF ISSUES:\\n- Incomplete response, cutting off mid-sentence.\\n- Lacks analytical depth due to incompleteness.\\n- Insufficient contextualization despite acknowledging the historical period.\\n\\nSPECIFIC EXAMPLES:\\n- \"This collaboration highlights the\" - sentence abruptly ends, leaving the explanation unfinished.\\n- While it mentions \"grandeur of ancient Rome,\" the response doesn't elaborate on the historical context or significance of the Circus Flaminius within that period.\\n\\nIMPACT:\\nThe incomplete nature of the response is the most significant factor leading to the low rating. It prevents the AI from fully addressing the prompt's requirements regarding artist background, subject matter, historical period, materials/techniques, size, and location. The lack of completion makes it difficult to assess the AI's analytical depth and contextualization abilities. Because the response ends abruptly, the user is left with an unfinished thought.\\n  "
      ]
     },
     "execution_count": 52,
     "metadata": {},
     "output_type": "execute_result"
    }
   ],
   "source": [
    "# print out the analysis of the bad generations\n",
    "bad_generations[['response', 'analysis']].head(3)"
   ]
  },
  {
   "cell_type": "markdown",
   "metadata": {},
   "source": [
    "The main reason for a 'BAD' generation is \"Incomplete response\", which is possible as we are controling the output length."
   ]
  },
  {
   "cell_type": "markdown",
   "metadata": {},
   "source": [
    "## The Eyes Have It: Enhancing Art Interpretation with Visual Intelligence"
   ]
  },
  {
   "cell_type": "markdown",
   "metadata": {},
   "source": [
    "Both our baseline experiment and length control trials relied solely on textual content for generating artwork explanations. We propose enhancing this approach by leveraging multimodal information, specifically by extracting additional valuable insights from artwork images to supplement the text-based descriptions. This visual integration would make the generated explanations more aligned with visitors' actual viewing experience.\n",
    "\n",
    "Moreover, this multimodal approach offers another significant advantage: even when textual information about an artwork is incomplete or missing, the system can still generate meaningful descriptions by analyzing the visual elements."
   ]
  },
  {
   "cell_type": "markdown",
   "metadata": {},
   "source": [
    "The Gemini API can generate text output in response to various inputs, including text, images, video, and audio. Please check out the gemini API documenation page for more information.\n",
    "\n",
    "https://ai.google.dev/gemini-api/docs/text-generation"
   ]
  },
  {
   "cell_type": "code",
   "execution_count": 54,
   "metadata": {},
   "outputs": [],
   "source": [
    "# load the selected dataframe\n",
    "df_selected = pd.read_csv('data/sample50_drawings_and_prints_cleaned.csv')"
   ]
  },
  {
   "cell_type": "code",
   "execution_count": 55,
   "metadata": {},
   "outputs": [],
   "source": [
    "# For baseline, we do not use id and url into the prompt\n",
    "url_cols = ['Primary Image URL','Tags AAT URL','Tags Wikidata URL']\n",
    "id_cols = ['Object ID','Object Number','Constituent ID']\n",
    "\n",
    "baseline_cols = list(set(df_selected.columns) - set(url_cols) - set(id_cols))\n",
    "\n",
    "# Now, we add the 'Primary Image URL' in addition to baseline_cols for the image input\n",
    "cols_with_image = baseline_cols + ['Primary Image URL']"
   ]
  },
  {
   "cell_type": "code",
   "execution_count": 56,
   "metadata": {},
   "outputs": [
    {
     "name": "stdout",
     "output_type": "stream",
     "text": [
      "(50, 18)\n",
      "Index(['Artist End Date', 'Object Begin Date', 'Department', 'Object Date',\n",
      "       'Artist Display Name', 'Artist Role', 'Dimensions', 'Medium',\n",
      "       'Object End Date', 'Object Name', 'Title', 'Artist Begin Date',\n",
      "       'Classification', 'Repository', 'Artist Display Bio',\n",
      "       'Artist Nationality', 'Tags', 'Primary Image URL'],\n",
      "      dtype='object')\n"
     ]
    }
   ],
   "source": [
    "# Extract selected columns from df_selected\n",
    "df_selected_image = df_selected[cols_with_image]\n",
    "\n",
    "# print the shape of the dataframe\n",
    "print(df_selected_image.shape)\n",
    "\n",
    "# print the column names, which contains image info +  artist info (same as Baseline) and 'Primary Image URL' \n",
    "print(df_selected_image.columns)"
   ]
  },
  {
   "cell_type": "code",
   "execution_count": 57,
   "metadata": {},
   "outputs": [
    {
     "name": "stdout",
     "output_type": "stream",
     "text": [
      "image_path:  https://images.metmuseum.org/CRDImages/dp/original/DP817292.jpg\n",
      "The image appears to be an etching by Francisco Goya, specifically from \"The Disasters of War\" series. The scene depicts a violent and distressing event, likely related to the Peninsular War. It shows soldiers attacking and killing civilians, including women and children. The composition is dark and dramatic, emphasizing the brutality and horror of war.\n"
     ]
    }
   ],
   "source": [
    "# Test for gemini api with the first row of the dataframe\n",
    "image_path = df_selected_image['Primary Image URL'].iloc[0]\n",
    "print('image_path: ', image_path)\n",
    "image = requests.get(image_path)\n",
    "\n",
    "client = genai.Client(api_key=GEMINI_API_KEY)\n",
    "response = client.models.generate_content(\n",
    "    model=\"gemini-2.0-flash\",\n",
    "    contents=[\"What is this image?\",\n",
    "              types.Part.from_bytes(data=image.content, mime_type=\"image/jpeg\")])\n",
    "\n",
    "print(response.text)"
   ]
  },
  {
   "cell_type": "markdown",
   "metadata": {},
   "source": [
    "<img src=\"sample_image/sample_image.png\" alt=\"Sample Image\" width=\"300\" height=\"300\">"
   ]
  },
  {
   "cell_type": "markdown",
   "metadata": {},
   "source": [
    "Modify the baseline prompt template to combine text and image information in a structured way where:\n",
    "\n",
    "1. Text serves as the primary source for facts and details\n",
    "2. Images play a supporting role to:\n",
    "   - Verify what's mentioned in the text\n",
    "   - Add visual descriptions (colors, composition, textures)\n",
    "   - Enhance the explanation with observable details"
   ]
  },
  {
   "cell_type": "code",
   "execution_count": 60,
   "metadata": {},
   "outputs": [],
   "source": [
    "prompt_template_with_image = \"\"\"\n",
    "You are a helpful tour guide in an art gallery.\n",
    "Please provide an explanation and insights for the following artwork to the visitor. Use the provided text details as the main source of information, and refer to the accompanying image for visual context and potential enhancement of your description.\n",
    "\n",
    "**Artwork Details (Text):**\n",
    "{details}\n",
    "\n",
    "**Instructions:**\n",
    "1.  Base your explanation primarily on the **Artwork Details (Text)** provided above.\n",
    "2.  Use the image as a visual reference to potentially add descriptive nuances or confirm visual aspects mentioned in the text details.\n",
    "3.  Generate a concise explanation focusing on:\n",
    "    * The artist's background and context (from text details).\n",
    "    * The artwork's subject matter (from text details, potentially referencing specific elements visible in the image).\n",
    "    * The historical period and significance (from text details).\n",
    "    * The materials and techniques used (from text details, potentially adding visual description like visible brushstrokes or texture if apparent in the image).\n",
    "    * Mention its size and location (from text details).\n",
    "4.  Ensure the core facts come from the **Artwork Details (Text)**, but feel free to enrich the description with observations directly inspired by viewing the **Artwork Image URL** (e.g., commenting on composition, color palette, specific visual details).\n",
    "\n",
    "**Generated Explanation:**\n",
    "[Generate the explanation here, primarily based on the text details but enhanced by visual reference to the image]\n",
    "\"\"\""
   ]
  },
  {
   "cell_type": "code",
   "execution_count": 61,
   "metadata": {},
   "outputs": [],
   "source": [
    "# helper function to generate prompts using the template\n",
    "def generate_artwork_prompts(df, cols, prompt_template):\n",
    "    \"\"\"\n",
    "    Generate prompts for artwork descriptions based on dataframe columns\n",
    "    \n",
    "    Args:\n",
    "        df (pd.DataFrame): DataFrame containing artwork information\n",
    "        cols (list): List of column names to include in prompts\n",
    "        prompt_template (str): Template string for generating prompts with {details} placeholder\n",
    "        \n",
    "    Returns:\n",
    "        list: List of generated prompts\n",
    "    \"\"\"\n",
    "    # List to store the generated prompts \n",
    "    generated_prompts = []\n",
    "\n",
    "    print(\"\\n--- Generating Prompts ---\")\n",
    "\n",
    "    # Iterate through each row of the DataFrame\n",
    "    for index, row in df.iterrows():\n",
    "        # Create the details string for the current artwork\n",
    "        details_str = \"\"\n",
    "        for col_name in cols: # Iterate through provided columns\n",
    "            # Ensure the value is converted to string, handle potential None/NaN values\n",
    "            value = str(row[col_name]) if pd.notna(row[col_name]) else \"N/A\"\n",
    "            details_str += f\"* **{col_name}:** {value}\\n\"\n",
    "\n",
    "        # Format the full prompt using the template and the generated details string\n",
    "        full_prompt = prompt_template.format(details=details_str.strip())\n",
    "        generated_prompts.append(full_prompt)\n",
    "        \n",
    "    return generated_prompts"
   ]
  },
  {
   "cell_type": "code",
   "execution_count": 62,
   "metadata": {},
   "outputs": [
    {
     "name": "stdout",
     "output_type": "stream",
     "text": [
      "\n",
      "--- Generating Prompts ---\n"
     ]
    }
   ],
   "source": [
    "# generate text prompts using baseline cols(without image url),\n",
    "# because we will parse the image as a separate input during api call\n",
    "generated_prompts = generate_artwork_prompts(df_selected_image, baseline_cols, prompt_template_with_image)"
   ]
  },
  {
   "cell_type": "code",
   "execution_count": 64,
   "metadata": {},
   "outputs": [
    {
     "name": "stdout",
     "output_type": "stream",
     "text": [
      "\n",
      "Example of a generated prompt (for the first artwork):\n",
      "\n",
      "You are a helpful tour guide in an art gallery.\n",
      "Please provide an explanation and insights for the following artwork to the visitor. Use the provided text details as the main source of information, and refer to the accompanying image for visual context and potential enhancement of your description.\n",
      "\n",
      "**Artwork Details (Text):**\n",
      "* **Artist End Date:** 1828      \n",
      "* **Object Begin Date:** 1805\n",
      "* **Department:** Drawings and Prints\n",
      "* **Object Date:** ca. 1810\n",
      "* **Artist Display Name:** Goya (Francisco de Goya y Lucientes)\n",
      "* **Artist Role:** Artist\n",
      "* **Dimensions:** Plate: 6 5/16 × 8 3/8 in. (16.1 × 21.2 cm)\n",
      "Sheet: 8 3/8 × 12 3/4 in. (21.3 × 32.4 cm)\n",
      "* **Medium:** Etching, drypoint, burin (working proof)\n",
      "* **Object End Date:** 1815\n",
      "* **Object Name:** Print\n",
      "* **Title:** Plate 11 from \"The Disasters of War\" (Los Desastres de la Guerra): 'Neither do these' (Ni por esas)\n",
      "* **Artist Begin Date:** 1746      \n",
      "* **Classification:** Prints\n",
      "* **Repository:** Metropolitan Museum of Art, New York, NY\n",
      "* **Artist Display Bio:** Spanish, Fuendetodos 1746–1828 Bordeaux\n",
      "* **Artist Nationality:** Spanish\n",
      "* **Tags:** Soldiers|Infants|Men|Women\n",
      "\n",
      "**Instructions:**\n",
      "1.  Base your explanation primarily on the **Artwork Details (Text)** provided above.\n",
      "2.  Use the image as a visual reference to potentially add descriptive nuances or confirm visual aspects mentioned in the text details.\n",
      "3.  Generate a concise explanation focusing on:\n",
      "    * The artist's background and context (from text details).\n",
      "    * The artwork's subject matter (from text details, potentially referencing specific elements visible in the image).\n",
      "    * The historical period and significance (from text details).\n",
      "    * The materials and techniques used (from text details, potentially adding visual description like visible brushstrokes or texture if apparent in the image).\n",
      "    * Mention its size and location (from text details).\n",
      "4.  Ensure the core facts come from the **Artwork Details (Text)**, but feel free to enrich the description with observations directly inspired by viewing the **Artwork Image URL** (e.g., commenting on composition, color palette, specific visual details).\n",
      "\n",
      "**Generated Explanation:**\n",
      "[Generate the explanation here, primarily based on the text details but enhanced by visual reference to the image]\n",
      "\n",
      "\n",
      "Total prompts generated: 50\n"
     ]
    }
   ],
   "source": [
    "# --- Display Example Prompt ---\n",
    "if generated_prompts:\n",
    "    print(\"\\nExample of a generated prompt (for the first artwork):\")\n",
    "    print(generated_prompts[0])\n",
    "    print(f\"\\nTotal prompts generated: {len(generated_prompts)}\")\n",
    "else:\n",
    "    print(\"\\nNo prompts were generated (DataFrame might be empty or columns missing).\")"
   ]
  },
  {
   "cell_type": "code",
   "execution_count": 65,
   "metadata": {},
   "outputs": [],
   "source": [
    "# helper function to generate explanation with text and image\n",
    "def generate_explanation_with_image(prompt, image_url):\n",
    "    \"\"\"\n",
    "    Generate an explanation for an artwork using Gemini API\n",
    "    \n",
    "    Args:\n",
    "        prompt (str): Text prompt for the image\n",
    "        image_url (str): URL of the image to analyze\n",
    "        \n",
    "    Returns:\n",
    "        str: Generated explanation from Gemini API\n",
    "    \"\"\"\n",
    "    try:\n",
    "        # Get image data from URL\n",
    "        image = requests.get(image_url)\n",
    "        \n",
    "        # Initialize Gemini client\n",
    "        client = genai.Client(api_key=GEMINI_API_KEY)\n",
    "        \n",
    "        # Generate content using both text and image\n",
    "        response = client.models.generate_content(\n",
    "            model=\"gemini-2.0-flash\",\n",
    "            contents=[\n",
    "                prompt,\n",
    "                types.Part.from_bytes(data=image.content, mime_type=\"image/jpeg\")\n",
    "            ]\n",
    "        )\n",
    "        \n",
    "        return response.text\n",
    "        \n",
    "    except Exception as e:\n",
    "        return f\"Error generating explanation: {str(e)}\""
   ]
  },
  {
   "cell_type": "markdown",
   "metadata": {},
   "source": [
    "**Sample Test:**\n",
    "\n",
    "Generate explanation with text and image for the first artwork.\n",
    "\n",
    "Compare it with the baseline generation that only uses text."
   ]
  },
  {
   "cell_type": "code",
   "execution_count": 66,
   "metadata": {},
   "outputs": [
    {
     "name": "stdout",
     "output_type": "stream",
     "text": [
      "Welcome to the gallery. Let's take a closer look at this powerful print.\n",
      "\n",
      "This is Plate 11 from \"The Disasters of War,\" a series by Francisco de Goya, a Spanish artist born in 1746 and who died in 1828. Goya was a significant figure, witnessing immense social and political upheaval during his lifetime. This particular print, titled \"Neither do these\" ('Ni por esas'), was created around 1810, placing it squarely within the period of the Peninsular War. The whole series created between 1805 and 1815, is a direct response to the brutality and devastation he witnessed during this conflict.\n",
      "\n",
      "Looking at the image, you can see that it depicts a scene of violence. There are soldiers present, and the central figures appear to be civilians – men, women, and even infants are represented. The image is a stark depiction of the atrocities inflicted upon the civilian population during the war.\n",
      "\n",
      "Goya employed etching, drypoint, and burin techniques to create this print. This combination of methods allowed him to achieve a range of tonal effects, from the deep, rich blacks in the shadows to the delicate, scratchy lines that define the figures. You can appreciate the contrasts and textures that create a dramatic and emotionally charged scene. The plate size of the print is approximately 6 5/16 × 8 3/8 inches (16.1 × 21.2 cm), while the sheet size is 8 3/8 × 12 3/4 inches (21.3 × 32.4 cm).\n",
      "\n",
      "Currently, this print is part of the Drawings and Prints Department collection at the Metropolitan Museum of Art here in New York. Goya's \"The Disasters of War\" series is considered a powerful indictment of war and a testament to the enduring human cost of conflict.\n",
      "\n"
     ]
    }
   ],
   "source": [
    "# Test: Generate explanation with text and image for the first artwork\n",
    "test_prompt = generated_prompts[0]\n",
    "test_image_url = df_selected_image['Primary Image URL'].iloc[0]\n",
    "\n",
    "# generate explanation\n",
    "explanation = generate_explanation_with_image(test_prompt, test_image_url)\n",
    "print(explanation)\n"
   ]
  },
  {
   "cell_type": "code",
   "execution_count": 67,
   "metadata": {},
   "outputs": [
    {
     "data": {
      "text/plain": [
       "'Welcome! Let\\'s take a look at this powerful print by Francisco de Goya, specifically Plate 11 from his series \"The Disasters of War,\" titled \"Neither do these\" or \"Ni por esas\" in Spanish.\\n\\nGoya was a Spanish artist, born in 1746 and passed away in 1828, with a long and impactful career spanning various political upheavals. This print, created around 1810, is part of a series reflecting the brutal realities of the Peninsular War, which saw Spain invaded and occupied by Napoleonic forces from around 1808 to 1814. The series as a whole is a searing indictment of war\\'s inhumanity.\\n\\nLooking at the tags - Soldiers, Infants, Men, Women - and the title, you can see the devastating impact of conflict on civilian populations. “Neither do these” implies that not even the most vulnerable—infants—are spared the horrors of war. Goya doesn\\'t shy away from portraying the raw, unvarnished truth.\\n\\nTechnically, this print is a \"working proof,\" meaning it was likely pulled while Goya was still developing the plate. It\\'s a combination of etching, drypoint, and burin, all intaglio techniques where the image is incised into a metal plate. The plate itself is relatively small, about 6 by 8 inches, while the sheet is around 8 by 12 inches.\\n\\n\"The Disasters of War\" is a significant series because it departs from traditional heroic depictions of war. Goya shows us the suffering, the violence, and the moral decay that accompanies armed conflict. This print, along with the rest of the series, offers a stark and enduring reminder of war\\'s devastating consequences. You can find this particular print, and many others from the series, here at the Metropolitan Museum of Art in New York. Any questions?\\n'"
      ]
     },
     "execution_count": 67,
     "metadata": {},
     "output_type": "execute_result"
    }
   ],
   "source": [
    "# load basline generation\n",
    "baseline_generations = pd.read_csv('results/baseline/prompts_and_generation.csv')\n",
    "# print the generation text of the first artwork\n",
    "baseline_generations['response'].iloc[0]"
   ]
  },
  {
   "cell_type": "markdown",
   "metadata": {},
   "source": [
    "**Obvervations:**\n",
    "- First Generation (Image + Text): Includes specific visual details like \"looking at the image, you can see that it depicts a scene of violence.\" The description is more grounded in what is actually visible in the artwork.\n",
    "\n",
    "- Second Generation (Text Only): Relies more on the provided tags and metadata. Makes broader statements about the content without specific visual details."
   ]
  },
  {
   "cell_type": "code",
   "execution_count": 68,
   "metadata": {},
   "outputs": [
    {
     "name": "stdout",
     "output_type": "stream",
     "text": [
      "\n",
      "Generating explanations for all artworks...\n"
     ]
    },
    {
     "name": "stderr",
     "output_type": "stream",
     "text": [
      "1it [00:03,  3.80s/it]"
     ]
    },
    {
     "name": "stdout",
     "output_type": "stream",
     "text": [
      "Generated explanation for artwork 1/50\n"
     ]
    },
    {
     "name": "stderr",
     "output_type": "stream",
     "text": [
      "2it [00:10,  5.40s/it]"
     ]
    },
    {
     "name": "stdout",
     "output_type": "stream",
     "text": [
      "Generated explanation for artwork 2/50\n"
     ]
    },
    {
     "name": "stderr",
     "output_type": "stream",
     "text": [
      "3it [00:21,  7.85s/it]"
     ]
    },
    {
     "name": "stdout",
     "output_type": "stream",
     "text": [
      "Generated explanation for artwork 3/50\n"
     ]
    },
    {
     "name": "stderr",
     "output_type": "stream",
     "text": [
      "4it [00:25,  6.50s/it]"
     ]
    },
    {
     "name": "stdout",
     "output_type": "stream",
     "text": [
      "Generated explanation for artwork 4/50\n"
     ]
    },
    {
     "name": "stderr",
     "output_type": "stream",
     "text": [
      "5it [00:34,  7.25s/it]"
     ]
    },
    {
     "name": "stdout",
     "output_type": "stream",
     "text": [
      "Generated explanation for artwork 5/50\n"
     ]
    },
    {
     "name": "stderr",
     "output_type": "stream",
     "text": [
      "6it [00:38,  6.29s/it]"
     ]
    },
    {
     "name": "stdout",
     "output_type": "stream",
     "text": [
      "Generated explanation for artwork 6/50\n"
     ]
    },
    {
     "name": "stderr",
     "output_type": "stream",
     "text": [
      "7it [00:48,  7.37s/it]"
     ]
    },
    {
     "name": "stdout",
     "output_type": "stream",
     "text": [
      "Generated explanation for artwork 7/50\n"
     ]
    },
    {
     "name": "stderr",
     "output_type": "stream",
     "text": [
      "8it [00:53,  6.85s/it]"
     ]
    },
    {
     "name": "stdout",
     "output_type": "stream",
     "text": [
      "Generated explanation for artwork 8/50\n"
     ]
    },
    {
     "name": "stderr",
     "output_type": "stream",
     "text": [
      "9it [01:01,  7.08s/it]"
     ]
    },
    {
     "name": "stdout",
     "output_type": "stream",
     "text": [
      "Generated explanation for artwork 9/50\n"
     ]
    },
    {
     "name": "stderr",
     "output_type": "stream",
     "text": [
      "10it [01:06,  6.47s/it]"
     ]
    },
    {
     "name": "stdout",
     "output_type": "stream",
     "text": [
      "Generated explanation for artwork 10/50\n"
     ]
    },
    {
     "name": "stderr",
     "output_type": "stream",
     "text": [
      "11it [01:14,  6.83s/it]"
     ]
    },
    {
     "name": "stdout",
     "output_type": "stream",
     "text": [
      "Generated explanation for artwork 11/50\n"
     ]
    },
    {
     "name": "stderr",
     "output_type": "stream",
     "text": [
      "12it [01:21,  6.95s/it]"
     ]
    },
    {
     "name": "stdout",
     "output_type": "stream",
     "text": [
      "Generated explanation for artwork 12/50\n"
     ]
    },
    {
     "name": "stderr",
     "output_type": "stream",
     "text": [
      "13it [01:28,  6.98s/it]"
     ]
    },
    {
     "name": "stdout",
     "output_type": "stream",
     "text": [
      "Generated explanation for artwork 13/50\n"
     ]
    },
    {
     "name": "stderr",
     "output_type": "stream",
     "text": [
      "14it [01:35,  7.01s/it]"
     ]
    },
    {
     "name": "stdout",
     "output_type": "stream",
     "text": [
      "Generated explanation for artwork 14/50\n"
     ]
    },
    {
     "name": "stderr",
     "output_type": "stream",
     "text": [
      "15it [01:42,  6.99s/it]"
     ]
    },
    {
     "name": "stdout",
     "output_type": "stream",
     "text": [
      "Generated explanation for artwork 15/50\n",
      "\n",
      "Waiting for 1 minute after 15 calls...\n",
      "Resuming generation...\n"
     ]
    },
    {
     "name": "stderr",
     "output_type": "stream",
     "text": [
      "16it [02:46, 24.11s/it]"
     ]
    },
    {
     "name": "stdout",
     "output_type": "stream",
     "text": [
      "Generated explanation for artwork 16/50\n"
     ]
    },
    {
     "name": "stderr",
     "output_type": "stream",
     "text": [
      "17it [02:51, 18.35s/it]"
     ]
    },
    {
     "name": "stdout",
     "output_type": "stream",
     "text": [
      "Generated explanation for artwork 17/50\n"
     ]
    },
    {
     "name": "stderr",
     "output_type": "stream",
     "text": [
      "18it [02:58, 15.01s/it]"
     ]
    },
    {
     "name": "stdout",
     "output_type": "stream",
     "text": [
      "Generated explanation for artwork 18/50\n"
     ]
    },
    {
     "name": "stderr",
     "output_type": "stream",
     "text": [
      "19it [03:03, 11.86s/it]"
     ]
    },
    {
     "name": "stdout",
     "output_type": "stream",
     "text": [
      "Generated explanation for artwork 19/50\n"
     ]
    },
    {
     "name": "stderr",
     "output_type": "stream",
     "text": [
      "20it [03:08,  9.90s/it]"
     ]
    },
    {
     "name": "stdout",
     "output_type": "stream",
     "text": [
      "Generated explanation for artwork 20/50\n"
     ]
    },
    {
     "name": "stderr",
     "output_type": "stream",
     "text": [
      "21it [03:14,  8.87s/it]"
     ]
    },
    {
     "name": "stdout",
     "output_type": "stream",
     "text": [
      "Generated explanation for artwork 21/50\n"
     ]
    },
    {
     "name": "stderr",
     "output_type": "stream",
     "text": [
      "22it [03:18,  7.38s/it]"
     ]
    },
    {
     "name": "stdout",
     "output_type": "stream",
     "text": [
      "Generated explanation for artwork 22/50\n"
     ]
    },
    {
     "name": "stderr",
     "output_type": "stream",
     "text": [
      "23it [03:24,  6.98s/it]"
     ]
    },
    {
     "name": "stdout",
     "output_type": "stream",
     "text": [
      "Generated explanation for artwork 23/50\n"
     ]
    },
    {
     "name": "stderr",
     "output_type": "stream",
     "text": [
      "24it [03:34,  7.80s/it]"
     ]
    },
    {
     "name": "stdout",
     "output_type": "stream",
     "text": [
      "Generated explanation for artwork 24/50\n"
     ]
    },
    {
     "name": "stderr",
     "output_type": "stream",
     "text": [
      "25it [03:43,  8.19s/it]"
     ]
    },
    {
     "name": "stdout",
     "output_type": "stream",
     "text": [
      "Generated explanation for artwork 25/50\n"
     ]
    },
    {
     "name": "stderr",
     "output_type": "stream",
     "text": [
      "26it [03:51,  8.10s/it]"
     ]
    },
    {
     "name": "stdout",
     "output_type": "stream",
     "text": [
      "Generated explanation for artwork 26/50\n"
     ]
    },
    {
     "name": "stderr",
     "output_type": "stream",
     "text": [
      "27it [03:56,  7.11s/it]"
     ]
    },
    {
     "name": "stdout",
     "output_type": "stream",
     "text": [
      "Generated explanation for artwork 27/50\n"
     ]
    },
    {
     "name": "stderr",
     "output_type": "stream",
     "text": [
      "28it [03:59,  5.80s/it]"
     ]
    },
    {
     "name": "stdout",
     "output_type": "stream",
     "text": [
      "Generated explanation for artwork 28/50\n"
     ]
    },
    {
     "name": "stderr",
     "output_type": "stream",
     "text": [
      "29it [04:04,  5.70s/it]"
     ]
    },
    {
     "name": "stdout",
     "output_type": "stream",
     "text": [
      "Generated explanation for artwork 29/50\n"
     ]
    },
    {
     "name": "stderr",
     "output_type": "stream",
     "text": [
      "30it [04:07,  4.97s/it]"
     ]
    },
    {
     "name": "stdout",
     "output_type": "stream",
     "text": [
      "Generated explanation for artwork 30/50\n",
      "\n",
      "Waiting for 1 minute after 30 calls...\n",
      "Resuming generation...\n"
     ]
    },
    {
     "name": "stderr",
     "output_type": "stream",
     "text": [
      "31it [05:13, 23.27s/it]"
     ]
    },
    {
     "name": "stdout",
     "output_type": "stream",
     "text": [
      "Generated explanation for artwork 31/50\n"
     ]
    },
    {
     "name": "stderr",
     "output_type": "stream",
     "text": [
      "32it [05:20, 18.17s/it]"
     ]
    },
    {
     "name": "stdout",
     "output_type": "stream",
     "text": [
      "Generated explanation for artwork 32/50\n"
     ]
    },
    {
     "name": "stderr",
     "output_type": "stream",
     "text": [
      "33it [05:25, 14.49s/it]"
     ]
    },
    {
     "name": "stdout",
     "output_type": "stream",
     "text": [
      "Generated explanation for artwork 33/50\n"
     ]
    },
    {
     "name": "stderr",
     "output_type": "stream",
     "text": [
      "34it [05:29, 11.20s/it]"
     ]
    },
    {
     "name": "stdout",
     "output_type": "stream",
     "text": [
      "Generated explanation for artwork 34/50\n"
     ]
    },
    {
     "name": "stderr",
     "output_type": "stream",
     "text": [
      "35it [05:33,  8.94s/it]"
     ]
    },
    {
     "name": "stdout",
     "output_type": "stream",
     "text": [
      "Generated explanation for artwork 35/50\n"
     ]
    },
    {
     "name": "stderr",
     "output_type": "stream",
     "text": [
      "36it [05:39,  8.29s/it]"
     ]
    },
    {
     "name": "stdout",
     "output_type": "stream",
     "text": [
      "Generated explanation for artwork 36/50\n"
     ]
    },
    {
     "name": "stderr",
     "output_type": "stream",
     "text": [
      "37it [05:46,  7.66s/it]"
     ]
    },
    {
     "name": "stdout",
     "output_type": "stream",
     "text": [
      "Generated explanation for artwork 37/50\n"
     ]
    },
    {
     "name": "stderr",
     "output_type": "stream",
     "text": [
      "38it [06:00,  9.60s/it]"
     ]
    },
    {
     "name": "stdout",
     "output_type": "stream",
     "text": [
      "Generated explanation for artwork 38/50\n"
     ]
    },
    {
     "name": "stderr",
     "output_type": "stream",
     "text": [
      "39it [06:05,  8.23s/it]"
     ]
    },
    {
     "name": "stdout",
     "output_type": "stream",
     "text": [
      "Generated explanation for artwork 39/50\n"
     ]
    },
    {
     "name": "stderr",
     "output_type": "stream",
     "text": [
      "40it [06:08,  6.66s/it]"
     ]
    },
    {
     "name": "stdout",
     "output_type": "stream",
     "text": [
      "Generated explanation for artwork 40/50\n"
     ]
    },
    {
     "name": "stderr",
     "output_type": "stream",
     "text": [
      "41it [06:12,  6.01s/it]"
     ]
    },
    {
     "name": "stdout",
     "output_type": "stream",
     "text": [
      "Generated explanation for artwork 41/50\n"
     ]
    },
    {
     "name": "stderr",
     "output_type": "stream",
     "text": [
      "42it [06:18,  5.93s/it]"
     ]
    },
    {
     "name": "stdout",
     "output_type": "stream",
     "text": [
      "Generated explanation for artwork 42/50\n"
     ]
    },
    {
     "name": "stderr",
     "output_type": "stream",
     "text": [
      "43it [06:23,  5.72s/it]"
     ]
    },
    {
     "name": "stdout",
     "output_type": "stream",
     "text": [
      "Generated explanation for artwork 43/50\n"
     ]
    },
    {
     "name": "stderr",
     "output_type": "stream",
     "text": [
      "44it [06:28,  5.58s/it]"
     ]
    },
    {
     "name": "stdout",
     "output_type": "stream",
     "text": [
      "Generated explanation for artwork 44/50\n"
     ]
    },
    {
     "name": "stderr",
     "output_type": "stream",
     "text": [
      "45it [06:36,  6.04s/it]"
     ]
    },
    {
     "name": "stdout",
     "output_type": "stream",
     "text": [
      "Generated explanation for artwork 45/50\n",
      "\n",
      "Waiting for 1 minute after 45 calls...\n",
      "Resuming generation...\n"
     ]
    },
    {
     "name": "stderr",
     "output_type": "stream",
     "text": [
      "46it [07:44, 24.65s/it]"
     ]
    },
    {
     "name": "stdout",
     "output_type": "stream",
     "text": [
      "Generated explanation for artwork 46/50\n"
     ]
    },
    {
     "name": "stderr",
     "output_type": "stream",
     "text": [
      "47it [07:52, 19.78s/it]"
     ]
    },
    {
     "name": "stdout",
     "output_type": "stream",
     "text": [
      "Generated explanation for artwork 47/50\n"
     ]
    },
    {
     "name": "stderr",
     "output_type": "stream",
     "text": [
      "48it [08:00, 16.28s/it]"
     ]
    },
    {
     "name": "stdout",
     "output_type": "stream",
     "text": [
      "Generated explanation for artwork 48/50\n"
     ]
    },
    {
     "name": "stderr",
     "output_type": "stream",
     "text": [
      "49it [08:09, 14.17s/it]"
     ]
    },
    {
     "name": "stdout",
     "output_type": "stream",
     "text": [
      "Generated explanation for artwork 49/50\n"
     ]
    },
    {
     "name": "stderr",
     "output_type": "stream",
     "text": [
      "50it [08:12,  9.86s/it]"
     ]
    },
    {
     "name": "stdout",
     "output_type": "stream",
     "text": [
      "Generated explanation for artwork 50/50\n"
     ]
    },
    {
     "name": "stderr",
     "output_type": "stream",
     "text": [
      "\n"
     ]
    }
   ],
   "source": [
    "# Generate explanations for all artworks with text and image\n",
    "# Get image URLs from the dataframe\n",
    "image_urls = df_selected_image['Primary Image URL'].tolist()\n",
    "\n",
    "# Generate explanations for all artworks\n",
    "print(\"\\nGenerating explanations for all artworks...\")\n",
    "responses = []\n",
    "\n",
    "# Process each artwork\n",
    "for i, (prompt, image_url) in enumerate(tqdm(zip(generated_prompts, image_urls))):\n",
    "    try:\n",
    "        # Add delay after every 15 calls to respect rate limits\n",
    "        if i > 0 and i % 15 == 0:\n",
    "            print(f\"\\nWaiting for 1 minute after {i} calls...\")\n",
    "            time.sleep(60)  # Wait for 60 seconds\n",
    "            print(\"Resuming generation...\")\n",
    "        \n",
    "        # Generate explanation using the existing function\n",
    "        response = generate_explanation_with_image(prompt, image_url)\n",
    "        responses.append(response)\n",
    "        print(f\"Generated explanation for artwork {i + 1}/{len(generated_prompts)}\")\n",
    "        \n",
    "    except Exception as e:\n",
    "        print(f\"Error processing artwork {i + 1}: {e}\")\n",
    "        responses.append(f\"Error: {e}\")\n",
    "\n",
    "# Create DataFrame with prompts, image URLs, and responses\n",
    "results_df = pd.DataFrame({\n",
    "    'prompt': generated_prompts,\n",
    "    'image_url': image_urls,\n",
    "    'response': responses\n",
    "})\n"
   ]
  },
  {
   "cell_type": "code",
   "execution_count": 70,
   "metadata": {},
   "outputs": [
    {
     "name": "stdout",
     "output_type": "stream",
     "text": [
      "\n",
      "Results saved to: results/image_input/prompts_and_generation.csv\n",
      "\n",
      "First few generations:\n",
      "0    Welcome! Let's take a look at this powerful print.\\n\\nThis is \"Plate 11 from 'The Disasters of War': 'Neither do these'\" by Francisco de Goya. Goya was a Spanish artist born in 1746 and died in 1828. He was a prominent figure in Spanish art, witnessing and reacting to significant historical events of his time.\\n\\nThis particular print, created around 1810 and 1815, is part of a series depicting the brutal realities of the Peninsular War (1808-1814). The series is a stark commentary on the atrocities committed during the conflict.\\n\\nLooking at the image, we can see the artist's focus on the impact of war on civilians. The soldiers, men, women, and even infants are the tags for this picture. The title \"Neither do these\" along with the image indicates a scene of cruelty and suffering inflicted upon innocents.\\n\\nTechnically, this print is a working proof, realized using etching, drypoint, and burin techniques. You can see how Goya uses these methods to create strong contrasts of light and shadow, adding to the dramatic intensity of the scene. The plate measures 6 5/16 × 8 3/8 inches, while the sheet is 8 3/8 × 12 3/4 inches.\\n\\nThis print is currently part of the Drawings and Prints collection at the Metropolitan Museum of Art in New York, NY, and it serves as a powerful reminder of the horrors of war and Goya's unflinching artistic vision.\\n\n",
      "Name: response, dtype: object\n"
     ]
    }
   ],
   "source": [
    "# Save to CSV\n",
    "output_file = 'results/image_input/prompts_and_generation.csv'\n",
    "results_df.to_csv(output_file, index=False)\n",
    "print(f\"\\nResults saved to: {output_file}\")\n",
    "\n",
    "# Display first few results\n",
    "print(\"\\nFirst few generations:\")\n",
    "print(results_df.head(1)['response'])"
   ]
  },
  {
   "cell_type": "markdown",
   "metadata": {},
   "source": [
    "**Evaluation**"
   ]
  },
  {
   "cell_type": "code",
   "execution_count": 71,
   "metadata": {},
   "outputs": [],
   "source": [
    "# load the generation with image input\n",
    "image_generations = pd.read_csv('results/image_input/prompts_and_generation.csv')"
   ]
  },
  {
   "cell_type": "markdown",
   "metadata": {},
   "source": [
    "Develop the **Text+Image evaluation framework** builds upon the baseline text-only approach by incorporating visual assessment capabilities while maintaining the core 1-5 rating scale. \n",
    "\n",
    "In addition to the baseline's textual analysis criteria (Instruction Following, Accuracy, Artwork Focus, Analytical Depth, Clarity, and Contextualization), it introduces visual-specific evaluation components including image usage relevance and visual accuracy verification. "
   ]
  },
  {
   "cell_type": "code",
   "execution_count": 72,
   "metadata": {},
   "outputs": [],
   "source": [
    "# Define the evaluation prompt\n",
    "ARTWORK_EXPLANATION_PROMPT_TEXT_PRIMARY = \"\"\"\\\n",
    "# Instruction\n",
    "You are an expert evaluator, knowledgeable in art history and visual analysis. Your task is to evaluate the quality of the responses generated by AI models that provide explanations for artworks, using a **primary text prompt** and a **supplementary image input**.\n",
    "We will provide you with the user's inputs (the primary text prompt and the supplementary image) and the AI-generated response.\n",
    "You should first **read the primary text prompt carefully** to understand the core task and requirements. Then, examine the supplementary image to understand the visual context provided. Your evaluation should focus on how well the AI addresses the **primary text prompt**, assessing if and how effectively it utilizes the **supplementary image for relevant illustration, evidence, or visual grounding**.\n",
    "You will assign the response a rating following the Rating Rubric and Evaluation Steps. Provide a step-by-step explanation for your rating, referencing specific parts of the response, the text prompt, and visual details **if the image was appropriately used**. Only choose ratings from the Rating Rubric.\n",
    "\n",
    "# Evaluation\n",
    "## Metric Definition\n",
    "You will be assessing **Artwork Explanation Quality (Text-Primary + Image-Auxiliary)**. This measures the AI's ability to provide an accurate, insightful, relevant, and clear explanation that **primarily addresses the requirements of the text prompt**. It also assesses the AI's ability to **appropriately and accurately integrate relevant details from the supplementary image** to enhance or support the explanation, without being unduly distracted by irrelevant visual information.\n",
    "\n",
    "## Criteria\n",
    "* **Instruction Following (Text Prompt)**: The response demonstrates a clear understanding of the **primary text prompt** and directly addresses its core requirements (e.g., specific question, focus, theme, audience). **This is the most important criterion.**\n",
    "* **Accuracy (Factual & Visual)**: Information presented related to the text prompt's subject is factually correct. **When visual details from the image are referenced** to support the explanation, those descriptions must accurately reflect the supplementary image.\n",
    "* **Relevant Visual Support**: When the explanation references the supplementary image, the visual details mentioned are **directly relevant to the points being made in response to the text prompt**. The response uses the image effectively as support where appropriate, without letting tangential visual details derail the main focus set by the text prompt. Assesses if the image *enhances* the answer to the text prompt.\n",
    "* **Analytical Depth (Text-Focused)**: The response offers insights (e.g., into technique, symbolism, context, intent) that are relevant to the **focus defined by the text prompt**. Visual details from the image may be used effectively as evidence or illustration for this analysis.\n",
    "* **Clarity and Cohesion**: The explanation is well-organized, uses clear language appropriate for the audience specified or implied in the text prompt, and flows logically, focusing on answering the text prompt.\n",
    "* **Contextualization (Prompt-Driven)**: Provides relevant context (artist, period, etc.) that aids in understanding the topic raised in the **text prompt**. May connect this context to the image if relevant to the explanation.\n",
    "\n",
    "## Rating Rubric\n",
    "* **5 (Very Good)**: Perfectly addresses the **text prompt** with accuracy, depth, and clarity. **Skillfully and relevantly integrates details from the supplementary image** to effectively support or illustrate the points made. Excels in all criteria, demonstrating mastery of the text task enhanced by the image.\n",
    "* **4 (Good)**: Strongly addresses the **text prompt** accurately and clearly. **Uses the image appropriately and accurately** for relevant support, though perhaps less insightfully or seamlessly than a 5. A solid response primarily focused on the text prompt.\n",
    "* **3 (Ok)**: Acceptably addresses the main points of the **text prompt**, but may be somewhat superficial, lack depth, or have minor clarity issues. **Uses the image, but potentially in a limited, slightly irrelevant, or non-insightful way**, or with minor visual inaccuracies. Gets the basics of the text prompt right.\n",
    "* **2 (Bad)**: **Significant issues addressing the text prompt** (major inaccuracies, instruction failure, lack of focus) OR **significantly misuses, misinterprets, or irrelevantly focuses on the image** instead of using it as support for the text prompt. Fails on key aspects of the primary task.\n",
    "* **1 (Very Bad)**: Fundamentally fails to address the **text prompt** OR relies on major factual/visual errors or hallucinations related to the core task. **Ignores the text prompt's focus in favor of the image, or completely misuses the image** context.\n",
    "\n",
    "## Evaluation Steps\n",
    "* STEP 1: Carefully read the **primary text prompt** to fully understand the core request and its constraints.\n",
    "* STEP 2: Examine the **supplementary image** to understand the visual context provided.\n",
    "* STEP 3: Read the AI-generated response.\n",
    "* STEP 4: Assess how well the response addresses the **text prompt** based on Instruction Following, Accuracy (factual), Analytical Depth, Contextualization, and Clarity.\n",
    "* STEP 5: Evaluate **how effectively and accurately the supplementary image was used** based on Relevant Visual Support and Accuracy (visual). Consider if the image use enhanced the answer to the text prompt or distracted from it.\n",
    "* STEP 6: Determine the overall quality, **giving primary weight to how well the text prompt was addressed (Step 4)**, while factoring in the appropriate use of the image (Step 5). Assign a rating from 1 to 5 based on the rubric, justifying your score.\n",
    "\n",
    "# User Inputs (Text Primary, Image Supplementary) and AI-generated Response\n",
    "## User Inputs\n",
    "\n",
    "### Primary Text Prompt\n",
    "{prompt}\n",
    "\n",
    "### Supplementary Image Input\n",
    "The evaluator will be shown or given access to the corresponding image input separately\n",
    "\n",
    "## AI-generated Response\n",
    "{response}\n",
    "\"\"\""
   ]
  },
  {
   "cell_type": "code",
   "execution_count": 88,
   "metadata": {},
   "outputs": [],
   "source": [
    "# Define a structured enum class to capture the result.\n",
    "class ArtworkRating(enum.Enum):\n",
    "    VERY_GOOD = '5'\n",
    "    GOOD = '4'\n",
    "    OK = '3'\n",
    "    BAD = '2'\n",
    "    VERY_BAD = '1'\n",
    "\n",
    "def eval_artwork_with_image(prompt, ai_response, image_url):\n",
    "    \"\"\"\n",
    "    Evaluate an artwork explanation that was generated with image input.\n",
    "    \n",
    "    Args:\n",
    "        prompt (str): The original prompt used to generate the response\n",
    "        ai_response (str): The AI-generated response to evaluate\n",
    "        image_url (str): URL of the artwork image\n",
    "        \n",
    "    Returns:\n",
    "        tuple: (verbose_eval, structured_eval)\n",
    "            - verbose_eval (str): Detailed evaluation text\n",
    "            - structured_eval (ArtworkRating): Structured rating enum value\n",
    "    \"\"\"\n",
    "    try:\n",
    "        # Get image data from URL\n",
    "        image = requests.get(image_url)\n",
    "        \n",
    "        # Generate the full text evaluation with both text and image\n",
    "        response = client.models.generate_content(\n",
    "            model=\"gemini-2.0-flash\",\n",
    "            contents=[\n",
    "                ARTWORK_EXPLANATION_PROMPT_TEXT_PRIMARY.format(\n",
    "                    prompt=prompt,\n",
    "                    response=ai_response\n",
    "                ),\n",
    "                types.Part.from_bytes(data=image.content, mime_type=\"image/jpeg\")\n",
    "            ]\n",
    "        )\n",
    "        verbose_eval = response.text\n",
    "\n",
    "        # Get structured rating\n",
    "        structured_output_config = types.GenerateContentConfig(\n",
    "            response_mime_type=\"application/json\",\n",
    "            response_schema=ArtworkRating,\n",
    "        )\n",
    "        rating_response = client.models.generate_content(\n",
    "            model=\"gemini-2.0-flash\",\n",
    "            contents=\"Extract Rating score from the evaluation text: \" + verbose_eval,\n",
    "            config=structured_output_config,\n",
    "        )\n",
    "        structured_eval = rating_response.parsed\n",
    "\n",
    "        return verbose_eval, structured_eval\n",
    "        \n",
    "    except Exception as e:\n",
    "        return f\"Error during evaluation: {str(e)}\", None"
   ]
  },
  {
   "cell_type": "code",
   "execution_count": 90,
   "metadata": {},
   "outputs": [
    {
     "name": "stdout",
     "output_type": "stream",
     "text": [
      "\n",
      "Starting evaluation process...\n"
     ]
    },
    {
     "name": "stderr",
     "output_type": "stream",
     "text": [
      "  2%|▏         | 1/50 [00:04<04:04,  4.99s/it]"
     ]
    },
    {
     "name": "stdout",
     "output_type": "stream",
     "text": [
      "Evaluated artwork 1/50\n"
     ]
    },
    {
     "name": "stderr",
     "output_type": "stream",
     "text": [
      "  4%|▍         | 2/50 [00:10<04:07,  5.16s/it]"
     ]
    },
    {
     "name": "stdout",
     "output_type": "stream",
     "text": [
      "Evaluated artwork 2/50\n"
     ]
    },
    {
     "name": "stderr",
     "output_type": "stream",
     "text": [
      "  6%|▌         | 3/50 [00:15<03:55,  5.00s/it]"
     ]
    },
    {
     "name": "stdout",
     "output_type": "stream",
     "text": [
      "Evaluated artwork 3/50\n"
     ]
    },
    {
     "name": "stderr",
     "output_type": "stream",
     "text": [
      "  8%|▊         | 4/50 [00:20<04:00,  5.22s/it]"
     ]
    },
    {
     "name": "stdout",
     "output_type": "stream",
     "text": [
      "Evaluated artwork 4/50\n"
     ]
    },
    {
     "name": "stderr",
     "output_type": "stream",
     "text": [
      " 10%|█         | 5/50 [00:26<04:11,  5.58s/it]"
     ]
    },
    {
     "name": "stdout",
     "output_type": "stream",
     "text": [
      "Evaluated artwork 5/50\n"
     ]
    },
    {
     "name": "stderr",
     "output_type": "stream",
     "text": [
      " 12%|█▏        | 6/50 [00:32<04:05,  5.59s/it]"
     ]
    },
    {
     "name": "stdout",
     "output_type": "stream",
     "text": [
      "Evaluated artwork 6/50\n"
     ]
    },
    {
     "name": "stderr",
     "output_type": "stream",
     "text": [
      " 14%|█▍        | 7/50 [00:37<03:58,  5.54s/it]"
     ]
    },
    {
     "name": "stdout",
     "output_type": "stream",
     "text": [
      "Evaluated artwork 7/50\n"
     ]
    },
    {
     "name": "stderr",
     "output_type": "stream",
     "text": [
      " 16%|█▌        | 8/50 [00:43<03:47,  5.41s/it]"
     ]
    },
    {
     "name": "stdout",
     "output_type": "stream",
     "text": [
      "Evaluated artwork 8/50\n",
      "\n",
      "Waiting for 1 minute after 8 calls...\n",
      "Resuming evaluation...\n"
     ]
    },
    {
     "name": "stderr",
     "output_type": "stream",
     "text": [
      " 18%|█▊        | 9/50 [01:48<16:32, 24.21s/it]"
     ]
    },
    {
     "name": "stdout",
     "output_type": "stream",
     "text": [
      "Evaluated artwork 9/50\n"
     ]
    },
    {
     "name": "stderr",
     "output_type": "stream",
     "text": [
      " 20%|██        | 10/50 [01:53<12:13, 18.35s/it]"
     ]
    },
    {
     "name": "stdout",
     "output_type": "stream",
     "text": [
      "Evaluated artwork 10/50\n"
     ]
    },
    {
     "name": "stderr",
     "output_type": "stream",
     "text": [
      " 22%|██▏       | 11/50 [01:58<09:12, 14.17s/it]"
     ]
    },
    {
     "name": "stdout",
     "output_type": "stream",
     "text": [
      "Evaluated artwork 11/50\n"
     ]
    },
    {
     "name": "stderr",
     "output_type": "stream",
     "text": [
      " 24%|██▍       | 12/50 [02:03<07:17, 11.53s/it]"
     ]
    },
    {
     "name": "stdout",
     "output_type": "stream",
     "text": [
      "Evaluated artwork 12/50\n"
     ]
    },
    {
     "name": "stderr",
     "output_type": "stream",
     "text": [
      " 26%|██▌       | 13/50 [02:08<05:48,  9.41s/it]"
     ]
    },
    {
     "name": "stdout",
     "output_type": "stream",
     "text": [
      "Evaluated artwork 13/50\n"
     ]
    },
    {
     "name": "stderr",
     "output_type": "stream",
     "text": [
      " 28%|██▊       | 14/50 [02:13<04:54,  8.18s/it]"
     ]
    },
    {
     "name": "stdout",
     "output_type": "stream",
     "text": [
      "Evaluated artwork 14/50\n"
     ]
    },
    {
     "name": "stderr",
     "output_type": "stream",
     "text": [
      " 30%|███       | 15/50 [02:20<04:33,  7.81s/it]"
     ]
    },
    {
     "name": "stdout",
     "output_type": "stream",
     "text": [
      "Evaluated artwork 15/50\n"
     ]
    },
    {
     "name": "stderr",
     "output_type": "stream",
     "text": [
      " 32%|███▏      | 16/50 [02:24<03:44,  6.60s/it]"
     ]
    },
    {
     "name": "stdout",
     "output_type": "stream",
     "text": [
      "Evaluated artwork 16/50\n",
      "\n",
      "Waiting for 1 minute after 16 calls...\n",
      "Resuming evaluation...\n"
     ]
    },
    {
     "name": "stderr",
     "output_type": "stream",
     "text": [
      " 34%|███▍      | 17/50 [03:29<13:17, 24.17s/it]"
     ]
    },
    {
     "name": "stdout",
     "output_type": "stream",
     "text": [
      "Evaluated artwork 17/50\n"
     ]
    },
    {
     "name": "stderr",
     "output_type": "stream",
     "text": [
      " 36%|███▌      | 18/50 [03:34<09:43, 18.25s/it]"
     ]
    },
    {
     "name": "stdout",
     "output_type": "stream",
     "text": [
      "Evaluated artwork 18/50\n"
     ]
    },
    {
     "name": "stderr",
     "output_type": "stream",
     "text": [
      " 38%|███▊      | 19/50 [03:39<07:22, 14.28s/it]"
     ]
    },
    {
     "name": "stdout",
     "output_type": "stream",
     "text": [
      "Evaluated artwork 19/50\n"
     ]
    },
    {
     "name": "stderr",
     "output_type": "stream",
     "text": [
      " 40%|████      | 20/50 [03:45<05:52, 11.75s/it]"
     ]
    },
    {
     "name": "stdout",
     "output_type": "stream",
     "text": [
      "Evaluated artwork 20/50\n"
     ]
    },
    {
     "name": "stderr",
     "output_type": "stream",
     "text": [
      " 42%|████▏     | 21/50 [03:50<04:47,  9.92s/it]"
     ]
    },
    {
     "name": "stdout",
     "output_type": "stream",
     "text": [
      "Evaluated artwork 21/50\n"
     ]
    },
    {
     "name": "stderr",
     "output_type": "stream",
     "text": [
      " 44%|████▍     | 22/50 [03:55<03:54,  8.36s/it]"
     ]
    },
    {
     "name": "stdout",
     "output_type": "stream",
     "text": [
      "Evaluated artwork 22/50\n"
     ]
    },
    {
     "name": "stderr",
     "output_type": "stream",
     "text": [
      " 46%|████▌     | 23/50 [04:02<03:34,  7.96s/it]"
     ]
    },
    {
     "name": "stdout",
     "output_type": "stream",
     "text": [
      "Evaluated artwork 23/50\n"
     ]
    },
    {
     "name": "stderr",
     "output_type": "stream",
     "text": [
      " 48%|████▊     | 24/50 [04:08<03:13,  7.44s/it]"
     ]
    },
    {
     "name": "stdout",
     "output_type": "stream",
     "text": [
      "Evaluated artwork 24/50\n",
      "\n",
      "Waiting for 1 minute after 24 calls...\n",
      "Resuming evaluation...\n"
     ]
    },
    {
     "name": "stderr",
     "output_type": "stream",
     "text": [
      " 50%|█████     | 25/50 [05:13<10:19, 24.77s/it]"
     ]
    },
    {
     "name": "stdout",
     "output_type": "stream",
     "text": [
      "Evaluated artwork 25/50\n"
     ]
    },
    {
     "name": "stderr",
     "output_type": "stream",
     "text": [
      " 52%|█████▏    | 26/50 [05:18<07:30, 18.77s/it]"
     ]
    },
    {
     "name": "stdout",
     "output_type": "stream",
     "text": [
      "Evaluated artwork 26/50\n"
     ]
    },
    {
     "name": "stderr",
     "output_type": "stream",
     "text": [
      " 54%|█████▍    | 27/50 [05:23<05:37, 14.68s/it]"
     ]
    },
    {
     "name": "stdout",
     "output_type": "stream",
     "text": [
      "Evaluated artwork 27/50\n"
     ]
    },
    {
     "name": "stderr",
     "output_type": "stream",
     "text": [
      " 56%|█████▌    | 28/50 [05:26<04:07, 11.24s/it]"
     ]
    },
    {
     "name": "stdout",
     "output_type": "stream",
     "text": [
      "Evaluated artwork 28/50\n"
     ]
    },
    {
     "name": "stderr",
     "output_type": "stream",
     "text": [
      " 58%|█████▊    | 29/50 [05:33<03:27,  9.88s/it]"
     ]
    },
    {
     "name": "stdout",
     "output_type": "stream",
     "text": [
      "Evaluated artwork 29/50\n"
     ]
    },
    {
     "name": "stderr",
     "output_type": "stream",
     "text": [
      " 60%|██████    | 30/50 [05:38<02:46,  8.31s/it]"
     ]
    },
    {
     "name": "stdout",
     "output_type": "stream",
     "text": [
      "Evaluated artwork 30/50\n"
     ]
    },
    {
     "name": "stderr",
     "output_type": "stream",
     "text": [
      " 62%|██████▏   | 31/50 [05:42<02:14,  7.10s/it]"
     ]
    },
    {
     "name": "stdout",
     "output_type": "stream",
     "text": [
      "Evaluated artwork 31/50\n"
     ]
    },
    {
     "name": "stderr",
     "output_type": "stream",
     "text": [
      " 64%|██████▍   | 32/50 [05:48<02:01,  6.74s/it]"
     ]
    },
    {
     "name": "stdout",
     "output_type": "stream",
     "text": [
      "Evaluated artwork 32/50\n",
      "\n",
      "Waiting for 1 minute after 32 calls...\n",
      "Resuming evaluation...\n"
     ]
    },
    {
     "name": "stderr",
     "output_type": "stream",
     "text": [
      " 66%|██████▌   | 33/50 [06:53<06:51, 24.21s/it]"
     ]
    },
    {
     "name": "stdout",
     "output_type": "stream",
     "text": [
      "Evaluated artwork 33/50\n"
     ]
    },
    {
     "name": "stderr",
     "output_type": "stream",
     "text": [
      " 68%|██████▊   | 34/50 [06:57<04:49, 18.08s/it]"
     ]
    },
    {
     "name": "stdout",
     "output_type": "stream",
     "text": [
      "Evaluated artwork 34/50\n"
     ]
    },
    {
     "name": "stderr",
     "output_type": "stream",
     "text": [
      " 70%|███████   | 35/50 [07:02<03:35, 14.39s/it]"
     ]
    },
    {
     "name": "stdout",
     "output_type": "stream",
     "text": [
      "Evaluated artwork 35/50\n"
     ]
    },
    {
     "name": "stderr",
     "output_type": "stream",
     "text": [
      " 72%|███████▏  | 36/50 [07:07<02:41, 11.52s/it]"
     ]
    },
    {
     "name": "stdout",
     "output_type": "stream",
     "text": [
      "Evaluated artwork 36/50\n"
     ]
    },
    {
     "name": "stderr",
     "output_type": "stream",
     "text": [
      " 74%|███████▍  | 37/50 [07:13<02:05,  9.67s/it]"
     ]
    },
    {
     "name": "stdout",
     "output_type": "stream",
     "text": [
      "Evaluated artwork 37/50\n"
     ]
    },
    {
     "name": "stderr",
     "output_type": "stream",
     "text": [
      " 76%|███████▌  | 38/50 [07:18<01:39,  8.30s/it]"
     ]
    },
    {
     "name": "stdout",
     "output_type": "stream",
     "text": [
      "Evaluated artwork 38/50\n"
     ]
    },
    {
     "name": "stderr",
     "output_type": "stream",
     "text": [
      " 78%|███████▊  | 39/50 [07:23<01:20,  7.34s/it]"
     ]
    },
    {
     "name": "stdout",
     "output_type": "stream",
     "text": [
      "Evaluated artwork 39/50\n"
     ]
    },
    {
     "name": "stderr",
     "output_type": "stream",
     "text": [
      " 80%|████████  | 40/50 [07:27<01:04,  6.46s/it]"
     ]
    },
    {
     "name": "stdout",
     "output_type": "stream",
     "text": [
      "Evaluated artwork 40/50\n",
      "\n",
      "Waiting for 1 minute after 40 calls...\n",
      "Resuming evaluation...\n"
     ]
    },
    {
     "name": "stderr",
     "output_type": "stream",
     "text": [
      " 82%|████████▏ | 41/50 [08:33<03:36, 24.08s/it]"
     ]
    },
    {
     "name": "stdout",
     "output_type": "stream",
     "text": [
      "Evaluated artwork 41/50\n"
     ]
    },
    {
     "name": "stderr",
     "output_type": "stream",
     "text": [
      " 84%|████████▍ | 42/50 [08:38<02:27, 18.49s/it]"
     ]
    },
    {
     "name": "stdout",
     "output_type": "stream",
     "text": [
      "Evaluated artwork 42/50\n"
     ]
    },
    {
     "name": "stderr",
     "output_type": "stream",
     "text": [
      " 86%|████████▌ | 43/50 [08:43<01:40, 14.34s/it]"
     ]
    },
    {
     "name": "stdout",
     "output_type": "stream",
     "text": [
      "Evaluated artwork 43/50\n"
     ]
    },
    {
     "name": "stderr",
     "output_type": "stream",
     "text": [
      " 88%|████████▊ | 44/50 [08:47<01:08, 11.49s/it]"
     ]
    },
    {
     "name": "stdout",
     "output_type": "stream",
     "text": [
      "Evaluated artwork 44/50\n"
     ]
    },
    {
     "name": "stderr",
     "output_type": "stream",
     "text": [
      " 90%|█████████ | 45/50 [08:53<00:48,  9.74s/it]"
     ]
    },
    {
     "name": "stdout",
     "output_type": "stream",
     "text": [
      "Evaluated artwork 45/50\n"
     ]
    },
    {
     "name": "stderr",
     "output_type": "stream",
     "text": [
      " 92%|█████████▏| 46/50 [08:59<00:34,  8.72s/it]"
     ]
    },
    {
     "name": "stdout",
     "output_type": "stream",
     "text": [
      "Evaluated artwork 46/50\n"
     ]
    },
    {
     "name": "stderr",
     "output_type": "stream",
     "text": [
      " 94%|█████████▍| 47/50 [09:04<00:22,  7.60s/it]"
     ]
    },
    {
     "name": "stdout",
     "output_type": "stream",
     "text": [
      "Evaluated artwork 47/50\n"
     ]
    },
    {
     "name": "stderr",
     "output_type": "stream",
     "text": [
      " 96%|█████████▌| 48/50 [09:09<00:13,  6.75s/it]"
     ]
    },
    {
     "name": "stdout",
     "output_type": "stream",
     "text": [
      "Evaluated artwork 48/50\n",
      "\n",
      "Waiting for 1 minute after 48 calls...\n",
      "Resuming evaluation...\n"
     ]
    },
    {
     "name": "stderr",
     "output_type": "stream",
     "text": [
      " 98%|█████████▊| 49/50 [10:15<00:24, 24.52s/it]"
     ]
    },
    {
     "name": "stdout",
     "output_type": "stream",
     "text": [
      "Evaluated artwork 49/50\n"
     ]
    },
    {
     "name": "stderr",
     "output_type": "stream",
     "text": [
      "100%|██████████| 50/50 [10:18<00:00, 12.37s/it]"
     ]
    },
    {
     "name": "stdout",
     "output_type": "stream",
     "text": [
      "Evaluated artwork 50/50\n",
      "\n",
      "Evaluation process completed!\n",
      "\n",
      "Rating distribution:\n",
      "rating\n",
      "ArtworkRating.GOOD         36\n",
      "ArtworkRating.VERY_GOOD    13\n",
      "Name: count, dtype: int64\n",
      "\n",
      "Example evaluation (first row):\n",
      "Rating: ArtworkRating.GOOD\n",
      "\n",
      "Evaluation text:\n",
      "## Evaluation\n",
      "\n",
      "### STEP 1: Carefully read the primary text prompt to fully understand the core request and its constraints.\n",
      "The prompt requests that I act as a tour guide in an art gallery and explain an artwork to a visitor. I must use the text details as the main source of information and use the image for visual context. The explanation should include the artist's background, the artwork's subject matter, the historical period and significance, the materials and techniques used, and its size and location. The core facts should come from the text, but the description can be enriched with observations from the image.\n",
      "\n",
      "### STEP 2: Examine the supplementary image to understand the visual context provided.\n",
      "The image depicts a scene of violence and suffering. A soldier is holding a woman and child, while other figures lie on the ground. The scene is dark and dramatic.\n",
      "\n",
      "### STEP 3: Read the AI-generated response.\n",
      "The response provides a good overview of the artwork, including the artist's background, the subject matter, the historical period, the materials and techniques used, and its size and location. It also mentions the location of the artwork. It refers to the image and explains how Goya uses the techniques to create the light and shadow.\n",
      "\n",
      "### STEP 4: Assess how well the response addresses the text prompt based on Instruction Following, Accuracy (factual), Analytical Depth, Contextualization, and Clarity.\n",
      "The response follows the instructions of the prompt, providing a concise explanation that includes the requested information. The information is accurate and well-organized, making it easy to understand. The response effectively adopts the persona of a tour guide.\n",
      "\n",
      "### STEP 5: Evaluate how effectively and accurately the supplementary image was used based on Relevant Visual Support and Accuracy (visual). Consider if the image use enhanced the answer to the text prompt or distracted from it.\n",
      "The response uses the image to enhance the description, referencing the subjects of the image and its dramatic lighting. The response accurately describes what is seen in the image and relates it to the text details.\n",
      "\n",
      "### STEP 6: Determine the overall quality, giving primary weight to how well the text prompt was addressed (Step 4), while factoring in the appropriate use of the image (Step 5). Assign a rating from 1 to 5 based on the rubric, justifying your score.\n",
      "The response effectively addresses the text prompt and uses the image to enhance the explanation, so I will give it a rating of 4.\n",
      "The response addresses the prompt's request for a concise explanation, but it could potentially offer a more in-depth analysis of the artwork's symbolism or historical context.\n",
      "\n",
      "## Rating: 4 (Good)\n",
      "\n"
     ]
    },
    {
     "name": "stderr",
     "output_type": "stream",
     "text": [
      "\n"
     ]
    }
   ],
   "source": [
    "# Evaluate all artwork explanations generated with image input.\n",
    "\n",
    "# Create a copy of image_generations to store evaluation results\n",
    "evaluation_results_df = image_generations.copy()\n",
    "\n",
    "# Add new columns for evaluation results if they don't exist\n",
    "if 'evaluation_text' not in evaluation_results_df.columns:\n",
    "    evaluation_results_df['evaluation_text'] = None\n",
    "if 'rating' not in evaluation_results_df.columns:\n",
    "    evaluation_results_df['rating'] = None\n",
    "\n",
    "print(\"\\nStarting evaluation process...\")\n",
    "\n",
    "# Process each row\n",
    "for i, row in tqdm(evaluation_results_df.iterrows(), total=len(evaluation_results_df)):\n",
    "    # Skip if already evaluated\n",
    "    if pd.notna(row['evaluation_text']):\n",
    "        continue\n",
    "        \n",
    "    try:\n",
    "        # Add delay after every 8 calls to respect rate limits\n",
    "        if i > 0 and i % 8 == 0:\n",
    "            print(f\"\\nWaiting for 1 minute after {i} calls...\")\n",
    "            time.sleep(60)  # Wait for 60 seconds\n",
    "            print(\"Resuming evaluation...\")\n",
    "        \n",
    "        # Generate evaluation using the existing function\n",
    "        verbose_eval, structured_eval = eval_artwork_with_image(\n",
    "            prompt=row['prompt'],\n",
    "            ai_response=row['response'],\n",
    "            image_url=row['image_url']\n",
    "        )\n",
    "        \n",
    "        # Store results\n",
    "        evaluation_results_df.at[i, 'evaluation_text'] = verbose_eval\n",
    "        evaluation_results_df.at[i, 'rating'] = structured_eval\n",
    "        \n",
    "        # Save progress after each evaluation\n",
    "        evaluation_results_df.to_csv('results/image_input/evaluation_results_with_image.csv', index=False)\n",
    "        \n",
    "        print(f\"Evaluated artwork {i + 1}/{len(evaluation_results_df)}\")\n",
    "        \n",
    "    except Exception as e:\n",
    "        print(f\"Error processing artwork {i + 1}: {e}\")\n",
    "        evaluation_results_df.at[i, 'evaluation_text'] = f\"Error: {e}\"\n",
    "        evaluation_results_df.at[i, 'rating'] = None\n",
    "        # Save progress even when error occurs\n",
    "        evaluation_results_df.to_csv('results/image_input/evaluation_results_with_image.csv', index=False)\n",
    "\n",
    "print(\"\\nEvaluation process completed!\")\n",
    "\n",
    "# Display summary statistics of ratings\n",
    "print(\"\\nRating distribution:\")\n",
    "print(evaluation_results_df['rating'].value_counts())\n",
    "\n",
    "# Display first result as example\n",
    "print(\"\\nExample evaluation (first row):\")\n",
    "print(\"Rating:\", evaluation_results_df['rating'].iloc[0])\n",
    "print(\"\\nEvaluation text:\")\n",
    "print(evaluation_results_df['evaluation_text'].iloc[0])"
   ]
  },
  {
   "cell_type": "code",
   "execution_count": 91,
   "metadata": {},
   "outputs": [
    {
     "name": "stdout",
     "output_type": "stream",
     "text": [
      "\n",
      "Rating distribution:\n",
      "rating\n",
      "ArtworkRating.GOOD         36\n",
      "ArtworkRating.VERY_GOOD    13\n",
      "Name: count, dtype: int64\n"
     ]
    }
   ],
   "source": [
    "# Display summary statistics of ratings\n",
    "print(\"\\nRating distribution:\")\n",
    "print(evaluation_results_df['rating'].value_counts())\n"
   ]
  },
  {
   "cell_type": "markdown",
   "metadata": {},
   "source": [
    "Observations:\n",
    "- The overall generation quality is good for image+text, while text-only is better\n",
    "    - Text+image: Good (36), Very_Good (13)\n",
    "    - Text-only: Good (31), Very_Good (19)\n",
    "  \n",
    "- The difference in generation quality may be due to the prompts used for generation and evaluation in each condition. Research shows different prompts significantly impact LLM evaluation results and consistency\n"
   ]
  },
  {
   "cell_type": "markdown",
   "metadata": {},
   "source": [
    "# Part 5: Future Work\n",
    "\n",
    "**1. Enhanced Evaluation Framework**\n",
    "- Implement multi-LLM evaluation using GPT-4, Claude, and DeepSeek\n",
    "- Create ensemble evaluation by bagging results from multiple LLMs\n",
    "- Add confidence scores for evaluations\n",
    "\n",
    "**2. Response Generation Improvements**\n",
    "- Experiment with different length control parameters (50-1000 tokens)\n",
    "- Test various temperature and top-p settings\n",
    "- Implement dynamic length adjustment based on artwork complexity\n",
    "\n",
    "**3. External Knowledge Integration**\n",
    "- Add Google Search API for fact verification\n",
    "- Implement RAG with art history knowledge base\n",
    "\n",
    "**4. Interactive Features**\n",
    "- Add follow-up question handling\n",
    "- Implement context-aware response generation\n",
    "- Create personalized explanation paths\n",
    "- Add multilingual support"
   ]
  }
 ],
 "metadata": {
  "kernelspec": {
   "display_name": "goolge_kaggle_genai",
   "language": "python",
   "name": "python3"
  },
  "language_info": {
   "codemirror_mode": {
    "name": "ipython",
    "version": 3
   },
   "file_extension": ".py",
   "mimetype": "text/x-python",
   "name": "python",
   "nbconvert_exporter": "python",
   "pygments_lexer": "ipython3",
   "version": "3.10.13"
  }
 },
 "nbformat": 4,
 "nbformat_minor": 2
}
